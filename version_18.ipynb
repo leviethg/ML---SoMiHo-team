{
 "cells": [
  {
   "cell_type": "code",
   "execution_count": 1,
   "id": "80770f5d",
   "metadata": {
    "_cell_guid": "b1076dfc-b9ad-4769-8c92-a6c4dae69d19",
    "_uuid": "8f2839f25d086af736a60e9eeb907d3b93b6e0e5",
    "execution": {
     "iopub.execute_input": "2024-12-18T19:27:23.401860Z",
     "iopub.status.busy": "2024-12-18T19:27:23.401456Z",
     "iopub.status.idle": "2024-12-18T19:27:43.702384Z",
     "shell.execute_reply": "2024-12-18T19:27:43.701289Z"
    },
    "papermill": {
     "duration": 20.31448,
     "end_time": "2024-12-18T19:27:43.705031",
     "exception": false,
     "start_time": "2024-12-18T19:27:23.390551",
     "status": "completed"
    },
    "tags": []
   },
   "outputs": [],
   "source": [
    "# This Python 3 environment comes with many helpful analytics libraries installed\n",
    "# It is defined by the kaggle/python Docker image: https://github.com/kaggle/docker-python\n",
    "# For example, here's several helpful packages to load\n",
    "\n",
    "import numpy as np # linear algebra\n",
    "import pandas as pd # data processing, CSV file I/O (e.g. pd.read_csv)\n",
    "import matplotlib.pyplot as plt\n",
    "from sklearn.linear_model import LogisticRegression\n",
    "from sklearn.ensemble import RandomForestClassifier, RandomForestRegressor\n",
    "from sklearn.model_selection import train_test_split,cross_val_score\n",
    "from concurrent.futures import ThreadPoolExecutor\n",
    "from tqdm import tqdm\n",
    "from sklearn.impute import SimpleImputer, KNNImputer\n",
    "import polars as pl\n",
    "from lightgbm import LGBMClassifier, LGBMRegressor\n",
    "import catboost\n",
    "from catboost import CatBoostClassifier, CatBoostRegressor\n",
    "import xgboost as xgb\n",
    "from xgboost import XGBClassifier, XGBRegressor\n",
    "from sklearn.model_selection import GridSearchCV\n",
    "from sklearn.metrics import accuracy_score, classification_report\n",
    "from sklearn.metrics import make_scorer, cohen_kappa_score\n",
    "import torch\n",
    "import torch.nn as nn\n",
    "import torch.optim as optim\n",
    "from keras.optimizers import Adam\n",
    "from sklearn.preprocessing import StandardScaler\n",
    "import torch.optim as optim\n",
    "\n",
    "%matplotlib inline\n",
    "\n",
    "\n",
    "# Input data files are available in the read-only \"../input/\" directory\n",
    "# For example, running this (by clicking run or pressing Shift+Enter) will list all files under the input directory\n",
    "\n",
    "import os\n",
    "# for dirname, _, filenames in os.walk('/kaggle/input'):\n",
    "#     for filename in filenames:\n",
    "#         print(os.path.join(dirname, filename))\n",
    "\n",
    "\n",
    "# You can write up to 20GB to the current directory (/kaggle/working/) that gets preserved as output when you create a version using \"Save & Run All\" \n",
    "# You can also write temporary files to /kaggle/temp/, but they won't be saved outside of the current session"
   ]
  },
  {
   "cell_type": "code",
   "execution_count": 2,
   "id": "08d87824",
   "metadata": {
    "execution": {
     "iopub.execute_input": "2024-12-18T19:27:43.725829Z",
     "iopub.status.busy": "2024-12-18T19:27:43.725099Z",
     "iopub.status.idle": "2024-12-18T19:27:43.739658Z",
     "shell.execute_reply": "2024-12-18T19:27:43.738554Z"
    },
    "papermill": {
     "duration": 0.026635,
     "end_time": "2024-12-18T19:27:43.742125",
     "exception": false,
     "start_time": "2024-12-18T19:27:43.715490",
     "status": "completed"
    },
    "tags": []
   },
   "outputs": [],
   "source": [
    "# df = pd.read_csv('/kaggle/input/child-mind-institute-problematic-internet-use/data_dictionary.csv', low_memory = False)\n",
    "# train_data = pd.read_csv('/kaggle/input/child-mind-institute-problematic-internet-use/train.csv')\n",
    "# test_data = pd.read_csv('/kaggle/input/child-mind-institute-problematic-internet-use/test.csv')\n",
    "\n",
    "sub_sample = pd.read_csv('/kaggle/input/child-mind-institute-problematic-internet-use/sample_submission.csv')\n",
    "\n",
    "# train_data.head()\n",
    "# df.info()\n",
    "# df.Instrument"
   ]
  },
  {
   "cell_type": "markdown",
   "id": "69e3be1a",
   "metadata": {
    "papermill": {
     "duration": 0.008125,
     "end_time": "2024-12-18T19:27:43.758898",
     "exception": false,
     "start_time": "2024-12-18T19:27:43.750773",
     "status": "completed"
    },
    "tags": []
   },
   "source": [
    "Version 17:\n",
    "Thêm encoder cho dữ liệu time_series\n",
    "Imputer các cột season trước bước drop dưới đây\n",
    "Drop: các cột có nhiều hơn 50% giá trị thiếu -> đổi thành 30%\n",
    "Chuyển đổi các giá trị Spring = 1, ..."
   ]
  },
  {
   "cell_type": "markdown",
   "id": "70c11b53",
   "metadata": {
    "papermill": {
     "duration": 0.008086,
     "end_time": "2024-12-18T19:27:43.775347",
     "exception": false,
     "start_time": "2024-12-18T19:27:43.767261",
     "status": "completed"
    },
    "tags": []
   },
   "source": [
    "# Actigraphy (time series)"
   ]
  },
  {
   "cell_type": "markdown",
   "id": "35442ef0",
   "metadata": {
    "papermill": {
     "duration": 0.007995,
     "end_time": "2024-12-18T19:27:43.791676",
     "exception": false,
     "start_time": "2024-12-18T19:27:43.783681",
     "status": "completed"
    },
    "tags": []
   },
   "source": [
    "# Feature Engineering"
   ]
  },
  {
   "cell_type": "code",
   "execution_count": 3,
   "id": "180f3f43",
   "metadata": {
    "execution": {
     "iopub.execute_input": "2024-12-18T19:27:43.810562Z",
     "iopub.status.busy": "2024-12-18T19:27:43.810151Z",
     "iopub.status.idle": "2024-12-18T19:27:43.827068Z",
     "shell.execute_reply": "2024-12-18T19:27:43.826086Z"
    },
    "papermill": {
     "duration": 0.028996,
     "end_time": "2024-12-18T19:27:43.829093",
     "exception": false,
     "start_time": "2024-12-18T19:27:43.800097",
     "status": "completed"
    },
    "tags": []
   },
   "outputs": [],
   "source": [
    "def process_file(filename, dirname):\n",
    "    df = pd.read_parquet(os.path.join(dirname, filename, 'part-0.parquet'))\n",
    "    df.drop('step', axis=1, inplace=True)\n",
    "    return df.describe().values.reshape(-1), filename.split('=')[1]\n",
    "\n",
    "def load_time_series(dirname) -> pd.DataFrame:\n",
    "    ids = os.listdir(dirname)\n",
    "    \n",
    "    with ThreadPoolExecutor() as executor:\n",
    "        results = list(tqdm(executor.map(lambda fname: process_file(fname, dirname), ids), total=len(ids)))\n",
    "    \n",
    "    stats, indexes = zip(*results)\n",
    "\n",
    "    df = pd.DataFrame(stats, columns=[f\"stat_{i}\" for i in range(len(stats[0]))])\n",
    "    df['id'] = indexes\n",
    "    return df\n",
    "\n",
    "def feature_engineering(df):\n",
    "    # season_cols = [col for col in df.columns if 'Season' in col]\n",
    "    # df = df.drop(season_cols, axis=1) \n",
    "    df['BMI_Age'] = df['Physical-BMI'] * df['Basic_Demos-Age']\n",
    "    df['Internet_Hours_Age'] = df['PreInt_EduHx-computerinternet_hoursday'] * df['Basic_Demos-Age']\n",
    "    df['BMI_Internet_Hours'] = df['Physical-BMI'] * df['PreInt_EduHx-computerinternet_hoursday']\n",
    "    df['BFP_BMI'] = df['BIA-BIA_Fat'] / df['BIA-BIA_BMI']\n",
    "    df['FFMI_BFP'] = df['BIA-BIA_FFMI'] / df['BIA-BIA_Fat']\n",
    "    df['FMI_BFP'] = df['BIA-BIA_FMI'] / df['BIA-BIA_Fat']\n",
    "    df['LST_TBW'] = df['BIA-BIA_LST'] / df['BIA-BIA_TBW']\n",
    "    df['BFP_BMR'] = df['BIA-BIA_Fat'] * df['BIA-BIA_BMR']\n",
    "    df['BFP_DEE'] = df['BIA-BIA_Fat'] * df['BIA-BIA_DEE']\n",
    "    df['BMR_Weight'] = df['BIA-BIA_BMR'] / df['Physical-Weight']\n",
    "    df['DEE_Weight'] = df['BIA-BIA_DEE'] / df['Physical-Weight']\n",
    "    df['SMM_Height'] = df['BIA-BIA_SMM'] / df['Physical-Height']\n",
    "    df['Muscle_to_Fat'] = df['BIA-BIA_SMM'] / df['BIA-BIA_FMI']\n",
    "    df['Hydration_Status'] = df['BIA-BIA_TBW'] / df['Physical-Weight']\n",
    "    df['ICW_TBW'] = df['BIA-BIA_ICW'] / df['BIA-BIA_TBW']\n",
    "    \n",
    "    return df\n",
    "\n",
    "class AutoEncoder(nn.Module):\n",
    "    def __init__(self, input_dim, encoding_dim):\n",
    "        super(AutoEncoder, self).__init__()\n",
    "        self.encoder = nn.Sequential(\n",
    "            nn.Linear(input_dim, encoding_dim * 3), nn.ReLU(),\n",
    "            nn.Linear(encoding_dim * 3, encoding_dim * 2), nn.ReLU(),\n",
    "            nn.Linear(encoding_dim * 2, encoding_dim), nn.ReLU()\n",
    "        )\n",
    "        self.decoder = nn.Sequential(\n",
    "            nn.Linear(encoding_dim, input_dim * 2), nn.ReLU(),\n",
    "            nn.Linear(input_dim * 2, input_dim * 3), nn.ReLU(),\n",
    "            nn.Linear(input_dim * 3, input_dim), nn.Sigmoid()\n",
    "        )\n",
    "\n",
    "    def forward(self, x):\n",
    "        encoded = self.encoder(x)\n",
    "        decoded = self.decoder(encoded)\n",
    "        return decoded\n",
    "\n",
    "\n",
    "\n",
    "\n",
    "def perform_autoencoder(df, encoding_dim=50, epochs=50, batch_size=32):\n",
    "    scaler = StandardScaler()\n",
    "    df_scaled = scaler.fit_transform(df)\n",
    "    \n",
    "    data_tensor = torch.FloatTensor(df_scaled)\n",
    "    \n",
    "    input_dim = data_tensor.shape[1]\n",
    "    autoencoder = AutoEncoder(input_dim, encoding_dim)\n",
    "    \n",
    "    criterion = nn.MSELoss()\n",
    "    optimizer = optim.Adam(autoencoder.parameters())\n",
    "    \n",
    "    for epoch in range(epochs):\n",
    "        for i in range(0, len(data_tensor), batch_size):\n",
    "            batch = data_tensor[i : i + batch_size]\n",
    "            optimizer.zero_grad()\n",
    "            reconstructed = autoencoder(batch)\n",
    "            loss = criterion(reconstructed, batch)\n",
    "            loss.backward()\n",
    "            optimizer.step()\n",
    "            \n",
    "        if (epoch + 1) % 10 == 0:\n",
    "            print(f'Epoch [{epoch + 1}/{epochs}], Loss: {loss.item():.4f}]')\n",
    "                 \n",
    "    with torch.no_grad():\n",
    "        encoded_data = autoencoder.encoder(data_tensor).numpy()\n",
    "        \n",
    "    df_encoded = pd.DataFrame(encoded_data, columns=[f'Enc_{i + 1}' for i in range(encoded_data.shape[1])])\n",
    "    \n",
    "    return df_encoded"
   ]
  },
  {
   "cell_type": "code",
   "execution_count": 4,
   "id": "61933fca",
   "metadata": {
    "execution": {
     "iopub.execute_input": "2024-12-18T19:27:43.847992Z",
     "iopub.status.busy": "2024-12-18T19:27:43.847189Z",
     "iopub.status.idle": "2024-12-18T19:27:43.916924Z",
     "shell.execute_reply": "2024-12-18T19:27:43.915984Z"
    },
    "papermill": {
     "duration": 0.082004,
     "end_time": "2024-12-18T19:27:43.919306",
     "exception": false,
     "start_time": "2024-12-18T19:27:43.837302",
     "status": "completed"
    },
    "tags": []
   },
   "outputs": [],
   "source": [
    "# Đọc dữ liệu\n",
    "train = pd.read_csv('/kaggle/input/child-mind-institute-problematic-internet-use/train.csv')\n",
    "test = pd.read_csv('/kaggle/input/child-mind-institute-problematic-internet-use/test.csv')\n",
    "sample = pd.read_csv('/kaggle/input/child-mind-institute-problematic-internet-use/sample_submission.csv')\n",
    "\n",
    "season_cols = [col for col in test.columns if 'Season' in col]"
   ]
  },
  {
   "cell_type": "code",
   "execution_count": 5,
   "id": "57f516a6",
   "metadata": {
    "execution": {
     "iopub.execute_input": "2024-12-18T19:27:43.937632Z",
     "iopub.status.busy": "2024-12-18T19:27:43.937227Z",
     "iopub.status.idle": "2024-12-18T19:27:43.942007Z",
     "shell.execute_reply": "2024-12-18T19:27:43.940889Z"
    },
    "papermill": {
     "duration": 0.016426,
     "end_time": "2024-12-18T19:27:43.944086",
     "exception": false,
     "start_time": "2024-12-18T19:27:43.927660",
     "status": "completed"
    },
    "tags": []
   },
   "outputs": [],
   "source": [
    "# # Chuyển đặc trưng SEASON thành số nguyên\n",
    "\n",
    "# # Lấy danh sách các cột không phải dạng số (trừ id)\n",
    "# train_cat_columns = train.select_dtypes(exclude='number').drop('id', axis=1).columns\n",
    "\n",
    "# # Điền NaN = 0 và ánh xạ giá trị mùa thành số\n",
    "# mapping = {'Spring': 1, 'Summer': 2, 'Fall': 3, 'Winter': 4}\n",
    "\n",
    "# for season in train_cat_columns:\n",
    "#     train[season] = train[season].fillna(0)  # Điền NaN thành 0\n",
    "#     train[season] = train[season].map(mapping).fillna(0).astype(int)  # Ánh xạ và xử lý giá trị còn lại\n"
   ]
  },
  {
   "cell_type": "code",
   "execution_count": 6,
   "id": "e8560432",
   "metadata": {
    "execution": {
     "iopub.execute_input": "2024-12-18T19:27:43.962154Z",
     "iopub.status.busy": "2024-12-18T19:27:43.961772Z",
     "iopub.status.idle": "2024-12-18T19:27:44.001583Z",
     "shell.execute_reply": "2024-12-18T19:27:44.000414Z"
    },
    "papermill": {
     "duration": 0.052106,
     "end_time": "2024-12-18T19:27:44.004479",
     "exception": false,
     "start_time": "2024-12-18T19:27:43.952373",
     "status": "completed"
    },
    "tags": []
   },
   "outputs": [
    {
     "name": "stdout",
     "output_type": "stream",
     "text": [
      "<class 'pandas.core.frame.DataFrame'>\n",
      "RangeIndex: 3960 entries, 0 to 3959\n",
      "Data columns (total 82 columns):\n",
      " #   Column                                  Non-Null Count  Dtype  \n",
      "---  ------                                  --------------  -----  \n",
      " 0   id                                      3960 non-null   object \n",
      " 1   Basic_Demos-Enroll_Season               3960 non-null   object \n",
      " 2   Basic_Demos-Age                         3960 non-null   int64  \n",
      " 3   Basic_Demos-Sex                         3960 non-null   int64  \n",
      " 4   CGAS-Season                             2555 non-null   object \n",
      " 5   CGAS-CGAS_Score                         2421 non-null   float64\n",
      " 6   Physical-Season                         3310 non-null   object \n",
      " 7   Physical-BMI                            3022 non-null   float64\n",
      " 8   Physical-Height                         3027 non-null   float64\n",
      " 9   Physical-Weight                         3076 non-null   float64\n",
      " 10  Physical-Waist_Circumference            898 non-null    float64\n",
      " 11  Physical-Diastolic_BP                   2954 non-null   float64\n",
      " 12  Physical-HeartRate                      2967 non-null   float64\n",
      " 13  Physical-Systolic_BP                    2954 non-null   float64\n",
      " 14  Fitness_Endurance-Season                1308 non-null   object \n",
      " 15  Fitness_Endurance-Max_Stage             743 non-null    float64\n",
      " 16  Fitness_Endurance-Time_Mins             740 non-null    float64\n",
      " 17  Fitness_Endurance-Time_Sec              740 non-null    float64\n",
      " 18  FGC-Season                              3346 non-null   object \n",
      " 19  FGC-FGC_CU                              2322 non-null   float64\n",
      " 20  FGC-FGC_CU_Zone                         2282 non-null   float64\n",
      " 21  FGC-FGC_GSND                            1074 non-null   float64\n",
      " 22  FGC-FGC_GSND_Zone                       1062 non-null   float64\n",
      " 23  FGC-FGC_GSD                             1074 non-null   float64\n",
      " 24  FGC-FGC_GSD_Zone                        1063 non-null   float64\n",
      " 25  FGC-FGC_PU                              2310 non-null   float64\n",
      " 26  FGC-FGC_PU_Zone                         2271 non-null   float64\n",
      " 27  FGC-FGC_SRL                             2305 non-null   float64\n",
      " 28  FGC-FGC_SRL_Zone                        2267 non-null   float64\n",
      " 29  FGC-FGC_SRR                             2307 non-null   float64\n",
      " 30  FGC-FGC_SRR_Zone                        2269 non-null   float64\n",
      " 31  FGC-FGC_TL                              2324 non-null   float64\n",
      " 32  FGC-FGC_TL_Zone                         2285 non-null   float64\n",
      " 33  BIA-Season                              2145 non-null   object \n",
      " 34  BIA-BIA_Activity_Level_num              1991 non-null   float64\n",
      " 35  BIA-BIA_BMC                             1991 non-null   float64\n",
      " 36  BIA-BIA_BMI                             1991 non-null   float64\n",
      " 37  BIA-BIA_BMR                             1991 non-null   float64\n",
      " 38  BIA-BIA_DEE                             1991 non-null   float64\n",
      " 39  BIA-BIA_ECW                             1991 non-null   float64\n",
      " 40  BIA-BIA_FFM                             1991 non-null   float64\n",
      " 41  BIA-BIA_FFMI                            1991 non-null   float64\n",
      " 42  BIA-BIA_FMI                             1991 non-null   float64\n",
      " 43  BIA-BIA_Fat                             1991 non-null   float64\n",
      " 44  BIA-BIA_Frame_num                       1991 non-null   float64\n",
      " 45  BIA-BIA_ICW                             1991 non-null   float64\n",
      " 46  BIA-BIA_LDM                             1991 non-null   float64\n",
      " 47  BIA-BIA_LST                             1991 non-null   float64\n",
      " 48  BIA-BIA_SMM                             1991 non-null   float64\n",
      " 49  BIA-BIA_TBW                             1991 non-null   float64\n",
      " 50  PAQ_A-Season                            475 non-null    object \n",
      " 51  PAQ_A-PAQ_A_Total                       475 non-null    float64\n",
      " 52  PAQ_C-Season                            1721 non-null   object \n",
      " 53  PAQ_C-PAQ_C_Total                       1721 non-null   float64\n",
      " 54  PCIAT-Season                            2736 non-null   object \n",
      " 55  PCIAT-PCIAT_01                          2733 non-null   float64\n",
      " 56  PCIAT-PCIAT_02                          2734 non-null   float64\n",
      " 57  PCIAT-PCIAT_03                          2731 non-null   float64\n",
      " 58  PCIAT-PCIAT_04                          2731 non-null   float64\n",
      " 59  PCIAT-PCIAT_05                          2729 non-null   float64\n",
      " 60  PCIAT-PCIAT_06                          2732 non-null   float64\n",
      " 61  PCIAT-PCIAT_07                          2729 non-null   float64\n",
      " 62  PCIAT-PCIAT_08                          2730 non-null   float64\n",
      " 63  PCIAT-PCIAT_09                          2730 non-null   float64\n",
      " 64  PCIAT-PCIAT_10                          2733 non-null   float64\n",
      " 65  PCIAT-PCIAT_11                          2734 non-null   float64\n",
      " 66  PCIAT-PCIAT_12                          2731 non-null   float64\n",
      " 67  PCIAT-PCIAT_13                          2729 non-null   float64\n",
      " 68  PCIAT-PCIAT_14                          2732 non-null   float64\n",
      " 69  PCIAT-PCIAT_15                          2730 non-null   float64\n",
      " 70  PCIAT-PCIAT_16                          2728 non-null   float64\n",
      " 71  PCIAT-PCIAT_17                          2725 non-null   float64\n",
      " 72  PCIAT-PCIAT_18                          2728 non-null   float64\n",
      " 73  PCIAT-PCIAT_19                          2730 non-null   float64\n",
      " 74  PCIAT-PCIAT_20                          2733 non-null   float64\n",
      " 75  PCIAT-PCIAT_Total                       2736 non-null   float64\n",
      " 76  SDS-Season                              2618 non-null   object \n",
      " 77  SDS-SDS_Total_Raw                       2609 non-null   float64\n",
      " 78  SDS-SDS_Total_T                         2606 non-null   float64\n",
      " 79  PreInt_EduHx-Season                     3540 non-null   object \n",
      " 80  PreInt_EduHx-computerinternet_hoursday  3301 non-null   float64\n",
      " 81  sii                                     2736 non-null   float64\n",
      "dtypes: float64(68), int64(2), object(12)\n",
      "memory usage: 2.5+ MB\n"
     ]
    }
   ],
   "source": [
    "train.info()"
   ]
  },
  {
   "cell_type": "code",
   "execution_count": 7,
   "id": "72425ed6",
   "metadata": {
    "execution": {
     "iopub.execute_input": "2024-12-18T19:27:44.025584Z",
     "iopub.status.busy": "2024-12-18T19:27:44.024689Z",
     "iopub.status.idle": "2024-12-18T19:27:44.029416Z",
     "shell.execute_reply": "2024-12-18T19:27:44.028410Z"
    },
    "papermill": {
     "duration": 0.016805,
     "end_time": "2024-12-18T19:27:44.031530",
     "exception": false,
     "start_time": "2024-12-18T19:27:44.014725",
     "status": "completed"
    },
    "tags": []
   },
   "outputs": [],
   "source": [
    "# # Lấy danh sách các cột không phải dạng số\n",
    "# test_cat_columns = test.select_dtypes(exclude='number').drop('id', axis=1).columns\n",
    "\n",
    "# # Điền NaN = 0 và ánh xạ giá trị mùa thành số\n",
    "# mapping = {'Spring': 1, 'Summer': 2, 'Fall': 3, 'Winter': 4}\n",
    "\n",
    "# for season in test_cat_columns:\n",
    "#     test[season] = test[season].fillna(0)  # Điền NaN thành 0\n",
    "#     test[season] = test[season].map(mapping).fillna(0).astype(int)  # Ánh xạ và xử lý giá trị còn lại\n",
    "\n"
   ]
  },
  {
   "cell_type": "code",
   "execution_count": 8,
   "id": "4d71a123",
   "metadata": {
    "execution": {
     "iopub.execute_input": "2024-12-18T19:27:44.050078Z",
     "iopub.status.busy": "2024-12-18T19:27:44.049692Z",
     "iopub.status.idle": "2024-12-18T19:27:44.063536Z",
     "shell.execute_reply": "2024-12-18T19:27:44.062378Z"
    },
    "papermill": {
     "duration": 0.025785,
     "end_time": "2024-12-18T19:27:44.065915",
     "exception": false,
     "start_time": "2024-12-18T19:27:44.040130",
     "status": "completed"
    },
    "tags": []
   },
   "outputs": [
    {
     "name": "stdout",
     "output_type": "stream",
     "text": [
      "<class 'pandas.core.frame.DataFrame'>\n",
      "RangeIndex: 20 entries, 0 to 19\n",
      "Data columns (total 59 columns):\n",
      " #   Column                                  Non-Null Count  Dtype  \n",
      "---  ------                                  --------------  -----  \n",
      " 0   id                                      20 non-null     object \n",
      " 1   Basic_Demos-Enroll_Season               20 non-null     object \n",
      " 2   Basic_Demos-Age                         20 non-null     int64  \n",
      " 3   Basic_Demos-Sex                         20 non-null     int64  \n",
      " 4   CGAS-Season                             10 non-null     object \n",
      " 5   CGAS-CGAS_Score                         8 non-null      float64\n",
      " 6   Physical-Season                         14 non-null     object \n",
      " 7   Physical-BMI                            13 non-null     float64\n",
      " 8   Physical-Height                         13 non-null     float64\n",
      " 9   Physical-Weight                         13 non-null     float64\n",
      " 10  Physical-Waist_Circumference            5 non-null      float64\n",
      " 11  Physical-Diastolic_BP                   11 non-null     float64\n",
      " 12  Physical-HeartRate                      12 non-null     float64\n",
      " 13  Physical-Systolic_BP                    11 non-null     float64\n",
      " 14  Fitness_Endurance-Season                4 non-null      object \n",
      " 15  Fitness_Endurance-Max_Stage             3 non-null      float64\n",
      " 16  Fitness_Endurance-Time_Mins             3 non-null      float64\n",
      " 17  Fitness_Endurance-Time_Sec              3 non-null      float64\n",
      " 18  FGC-Season                              17 non-null     object \n",
      " 19  FGC-FGC_CU                              13 non-null     float64\n",
      " 20  FGC-FGC_CU_Zone                         13 non-null     float64\n",
      " 21  FGC-FGC_GSND                            5 non-null      float64\n",
      " 22  FGC-FGC_GSND_Zone                       5 non-null      float64\n",
      " 23  FGC-FGC_GSD                             5 non-null      float64\n",
      " 24  FGC-FGC_GSD_Zone                        5 non-null      float64\n",
      " 25  FGC-FGC_PU                              13 non-null     float64\n",
      " 26  FGC-FGC_PU_Zone                         13 non-null     float64\n",
      " 27  FGC-FGC_SRL                             13 non-null     float64\n",
      " 28  FGC-FGC_SRL_Zone                        13 non-null     float64\n",
      " 29  FGC-FGC_SRR                             13 non-null     float64\n",
      " 30  FGC-FGC_SRR_Zone                        13 non-null     float64\n",
      " 31  FGC-FGC_TL                              13 non-null     float64\n",
      " 32  FGC-FGC_TL_Zone                         13 non-null     float64\n",
      " 33  BIA-Season                              8 non-null      object \n",
      " 34  BIA-BIA_Activity_Level_num              8 non-null      float64\n",
      " 35  BIA-BIA_BMC                             8 non-null      float64\n",
      " 36  BIA-BIA_BMI                             8 non-null      float64\n",
      " 37  BIA-BIA_BMR                             8 non-null      float64\n",
      " 38  BIA-BIA_DEE                             8 non-null      float64\n",
      " 39  BIA-BIA_ECW                             8 non-null      float64\n",
      " 40  BIA-BIA_FFM                             8 non-null      float64\n",
      " 41  BIA-BIA_FFMI                            8 non-null      float64\n",
      " 42  BIA-BIA_FMI                             8 non-null      float64\n",
      " 43  BIA-BIA_Fat                             8 non-null      float64\n",
      " 44  BIA-BIA_Frame_num                       8 non-null      float64\n",
      " 45  BIA-BIA_ICW                             8 non-null      float64\n",
      " 46  BIA-BIA_LDM                             8 non-null      float64\n",
      " 47  BIA-BIA_LST                             8 non-null      float64\n",
      " 48  BIA-BIA_SMM                             8 non-null      float64\n",
      " 49  BIA-BIA_TBW                             8 non-null      float64\n",
      " 50  PAQ_A-Season                            1 non-null      object \n",
      " 51  PAQ_A-PAQ_A_Total                       1 non-null      float64\n",
      " 52  PAQ_C-Season                            9 non-null      object \n",
      " 53  PAQ_C-PAQ_C_Total                       9 non-null      float64\n",
      " 54  SDS-Season                              10 non-null     object \n",
      " 55  SDS-SDS_Total_Raw                       10 non-null     float64\n",
      " 56  SDS-SDS_Total_T                         10 non-null     float64\n",
      " 57  PreInt_EduHx-Season                     18 non-null     object \n",
      " 58  PreInt_EduHx-computerinternet_hoursday  16 non-null     float64\n",
      "dtypes: float64(46), int64(2), object(11)\n",
      "memory usage: 9.3+ KB\n"
     ]
    }
   ],
   "source": [
    "test.info()"
   ]
  },
  {
   "cell_type": "code",
   "execution_count": 9,
   "id": "d7778f7a",
   "metadata": {
    "execution": {
     "iopub.execute_input": "2024-12-18T19:27:44.085519Z",
     "iopub.status.busy": "2024-12-18T19:27:44.084257Z",
     "iopub.status.idle": "2024-12-18T19:29:07.086242Z",
     "shell.execute_reply": "2024-12-18T19:29:07.085160Z"
    },
    "papermill": {
     "duration": 83.014428,
     "end_time": "2024-12-18T19:29:07.089071",
     "exception": false,
     "start_time": "2024-12-18T19:27:44.074643",
     "status": "completed"
    },
    "tags": []
   },
   "outputs": [
    {
     "name": "stderr",
     "output_type": "stream",
     "text": [
      "100%|██████████| 996/996 [01:22<00:00, 12.05it/s]\n",
      "100%|██████████| 2/2 [00:00<00:00,  9.18it/s]\n"
     ]
    }
   ],
   "source": [
    "# Xử lý parquet thành các đặc trưng mới\n",
    "train_ts = load_time_series(\"/kaggle/input/child-mind-institute-problematic-internet-use/series_train.parquet\")\n",
    "test_ts = load_time_series(\"/kaggle/input/child-mind-institute-problematic-internet-use/series_test.parquet\")\n"
   ]
  },
  {
   "cell_type": "code",
   "execution_count": 10,
   "id": "e84018ab",
   "metadata": {
    "execution": {
     "iopub.execute_input": "2024-12-18T19:29:07.156079Z",
     "iopub.status.busy": "2024-12-18T19:29:07.155566Z",
     "iopub.status.idle": "2024-12-18T19:29:07.160454Z",
     "shell.execute_reply": "2024-12-18T19:29:07.159414Z"
    },
    "papermill": {
     "duration": 0.037071,
     "end_time": "2024-12-18T19:29:07.162505",
     "exception": false,
     "start_time": "2024-12-18T19:29:07.125434",
     "status": "completed"
    },
    "tags": []
   },
   "outputs": [],
   "source": [
    "# test_ts.info()"
   ]
  },
  {
   "cell_type": "code",
   "execution_count": 11,
   "id": "f9cd81e8",
   "metadata": {
    "execution": {
     "iopub.execute_input": "2024-12-18T19:29:07.217784Z",
     "iopub.status.busy": "2024-12-18T19:29:07.217374Z",
     "iopub.status.idle": "2024-12-18T19:29:19.737275Z",
     "shell.execute_reply": "2024-12-18T19:29:19.736178Z"
    },
    "papermill": {
     "duration": 12.550363,
     "end_time": "2024-12-18T19:29:19.739562",
     "exception": false,
     "start_time": "2024-12-18T19:29:07.189199",
     "status": "completed"
    },
    "tags": []
   },
   "outputs": [
    {
     "name": "stdout",
     "output_type": "stream",
     "text": [
      "Epoch [10/100], Loss: 1.6832]\n",
      "Epoch [20/100], Loss: 1.6025]\n",
      "Epoch [30/100], Loss: 1.5401]\n",
      "Epoch [40/100], Loss: 1.5330]\n",
      "Epoch [50/100], Loss: 1.5073]\n",
      "Epoch [60/100], Loss: 1.5071]\n",
      "Epoch [70/100], Loss: 1.5027]\n",
      "Epoch [80/100], Loss: 1.4974]\n",
      "Epoch [90/100], Loss: 1.4765]\n",
      "Epoch [100/100], Loss: 1.4726]\n",
      "Epoch [10/100], Loss: 0.9897]\n",
      "Epoch [20/100], Loss: 0.5695]\n",
      "Epoch [30/100], Loss: 0.4271]\n",
      "Epoch [40/100], Loss: 0.4271]\n",
      "Epoch [50/100], Loss: 0.4271]\n",
      "Epoch [60/100], Loss: 0.4271]\n",
      "Epoch [70/100], Loss: 0.4271]\n",
      "Epoch [80/100], Loss: 0.4271]\n",
      "Epoch [90/100], Loss: 0.4271]\n",
      "Epoch [100/100], Loss: 0.4271]\n"
     ]
    }
   ],
   "source": [
    "from keras.optimizers import Adam\n",
    "from sklearn.preprocessing import StandardScaler\n",
    "import torch.optim as optim\n",
    "\n",
    "# Xử lý dữ liệu chuỗi thời gian\n",
    "df_train = train_ts.drop('id', axis=1)\n",
    "df_test = test_ts.drop('id', axis=1)\n",
    "\n",
    "train_ts_encoded = perform_autoencoder(df_train, encoding_dim=60, epochs=100, batch_size=32)\n",
    "test_ts_encoded = perform_autoencoder(df_test, encoding_dim=60, epochs=100, batch_size=32)\n",
    "\n",
    "time_series_cols = train_ts_encoded.columns.tolist()\n",
    "train_ts_encoded[\"id\"]=train_ts[\"id\"]\n",
    "test_ts_encoded['id']=test_ts[\"id\"]\n",
    "\n",
    "# Merge dữ liệu chuỗi thời gian vào train và test\n",
    "train = pd.merge(train, train_ts_encoded, how=\"left\", on='id')\n",
    "test = pd.merge(test, test_ts_encoded, how=\"left\", on='id')\n",
    "\n",
    "test['sii'] = np.nan\n",
    "test['PCIAT-PCIAT_Total'] = np.nan\n",
    "\n",
    "train = feature_engineering(train)\n",
    "train = train.dropna(thresh=10, axis=0)\n",
    "test = feature_engineering(test)\n"
   ]
  },
  {
   "cell_type": "code",
   "execution_count": 12,
   "id": "dfabcdb9",
   "metadata": {
    "execution": {
     "iopub.execute_input": "2024-12-18T19:29:19.796466Z",
     "iopub.status.busy": "2024-12-18T19:29:19.795139Z",
     "iopub.status.idle": "2024-12-18T19:29:19.812875Z",
     "shell.execute_reply": "2024-12-18T19:29:19.811729Z"
    },
    "papermill": {
     "duration": 0.047904,
     "end_time": "2024-12-18T19:29:19.815025",
     "exception": false,
     "start_time": "2024-12-18T19:29:19.767121",
     "status": "completed"
    },
    "tags": []
   },
   "outputs": [
    {
     "name": "stdout",
     "output_type": "stream",
     "text": [
      "<class 'pandas.core.frame.DataFrame'>\n",
      "Index: 3371 entries, 0 to 3958\n",
      "Columns: 157 entries, id to ICW_TBW\n",
      "dtypes: float32(60), float64(83), int64(2), object(12)\n",
      "memory usage: 3.3+ MB\n"
     ]
    }
   ],
   "source": [
    "train.info()"
   ]
  },
  {
   "cell_type": "code",
   "execution_count": 13,
   "id": "932f2681",
   "metadata": {
    "execution": {
     "iopub.execute_input": "2024-12-18T19:29:19.871304Z",
     "iopub.status.busy": "2024-12-18T19:29:19.870918Z",
     "iopub.status.idle": "2024-12-18T19:29:20.446678Z",
     "shell.execute_reply": "2024-12-18T19:29:20.444668Z"
    },
    "papermill": {
     "duration": 0.607381,
     "end_time": "2024-12-18T19:29:20.449826",
     "exception": false,
     "start_time": "2024-12-18T19:29:19.842445",
     "status": "completed"
    },
    "tags": []
   },
   "outputs": [
    {
     "data": {
      "text/plain": [
       "Basic_Demos-Age                           0\n",
       "Basic_Demos-Sex                           0\n",
       "CGAS-CGAS_Score                           0\n",
       "Physical-BMI                              0\n",
       "Physical-Height                           0\n",
       "Physical-Weight                           0\n",
       "Physical-Diastolic_BP                     0\n",
       "Physical-HeartRate                        0\n",
       "Physical-Systolic_BP                      0\n",
       "FGC-FGC_CU                                0\n",
       "FGC-FGC_TL                                0\n",
       "SDS-SDS_Total_Raw                         0\n",
       "SDS-SDS_Total_T                           0\n",
       "PreInt_EduHx-computerinternet_hoursday    0\n",
       "sii                                       0\n",
       "BMI_Age                                   0\n",
       "Internet_Hours_Age                        0\n",
       "BMI_Internet_Hours                        0\n",
       "PCIAT-PCIAT_Total                         0\n",
       "Basic_Demos-Enroll_Season                 0\n",
       "CGAS-Season                               0\n",
       "Physical-Season                           0\n",
       "FGC-Season                                0\n",
       "SDS-Season                                0\n",
       "PreInt_EduHx-Season                       0\n",
       "dtype: int64"
      ]
     },
     "execution_count": 13,
     "metadata": {},
     "output_type": "execute_result"
    }
   ],
   "source": [
    "# feature selection\n",
    "featuresCols = ['Basic_Demos-Age', 'Basic_Demos-Sex',\n",
    "                'CGAS-CGAS_Score', 'Physical-BMI',\n",
    "                'Physical-Height', 'Physical-Weight', 'Physical-Waist_Circumference',\n",
    "                'Physical-Diastolic_BP', 'Physical-HeartRate', 'Physical-Systolic_BP',\n",
    "                'Fitness_Endurance-Max_Stage',\n",
    "                'Fitness_Endurance-Time_Mins', 'Fitness_Endurance-Time_Sec',\n",
    "                'FGC-FGC_CU', 'FGC-FGC_CU_Zone', 'FGC-FGC_GSND',\n",
    "                'FGC-FGC_GSND_Zone', 'FGC-FGC_GSD', 'FGC-FGC_GSD_Zone', 'FGC-FGC_PU',\n",
    "                'FGC-FGC_PU_Zone', 'FGC-FGC_SRL', 'FGC-FGC_SRL_Zone', 'FGC-FGC_SRR',\n",
    "                'FGC-FGC_SRR_Zone', 'FGC-FGC_TL', 'FGC-FGC_TL_Zone',\n",
    "                'BIA-BIA_Activity_Level_num', 'BIA-BIA_BMC', 'BIA-BIA_BMI',\n",
    "                'BIA-BIA_BMR', 'BIA-BIA_DEE', 'BIA-BIA_ECW', 'BIA-BIA_FFM',\n",
    "                'BIA-BIA_FFMI', 'BIA-BIA_FMI', 'BIA-BIA_Fat', 'BIA-BIA_Frame_num',\n",
    "                'BIA-BIA_ICW', 'BIA-BIA_LDM', 'BIA-BIA_LST', 'BIA-BIA_SMM',\n",
    "                'BIA-BIA_TBW', 'PAQ_A-PAQ_A_Total',\n",
    "                'PAQ_C-PAQ_C_Total', 'SDS-SDS_Total_Raw',\n",
    "                'SDS-SDS_Total_T',\n",
    "                'PreInt_EduHx-computerinternet_hoursday', 'sii', 'BMI_Age','Internet_Hours_Age','BMI_Internet_Hours',\n",
    "                'BFP_BMI', 'FFMI_BFP', 'FMI_BFP', 'LST_TBW', 'BFP_BMR', 'BFP_DEE', 'BMR_Weight', 'DEE_Weight',\n",
    "                'SMM_Height', 'Muscle_to_Fat', 'Hydration_Status', 'ICW_TBW', 'PCIAT-PCIAT_Total']\n",
    "\n",
    "featuresCols += time_series_cols\n",
    "featuresCols += season_cols\n",
    "\n",
    "train = train.dropna(subset='sii')\n",
    "\n",
    "# Loại bỏ các cột chứa >= 30% giá trị bị thiếu\n",
    "cols_to_remove = [col for col in featuresCols if train[col].isnull().mean() >= 0.3]\n",
    "featuresCols = [col for col in featuresCols if col not in cols_to_remove]\n",
    "\n",
    "train = train[featuresCols]\n",
    "test = test[featuresCols] # Đến bước này, train và test đang có các cột giống nhau\n",
    "season_cols = [col for col in featuresCols if 'Season' in col] # List các cột season được giữ lại\n",
    "\n",
    "# điền giá trị thiếu cho train data\n",
    "imputer = KNNImputer(n_neighbors=5)\n",
    "numeric_cols = train.select_dtypes(include=['float64', 'int64']).columns\n",
    "imputed_data = imputer.fit_transform(train[numeric_cols])\n",
    "train_imputed = pd.DataFrame(imputed_data, columns=numeric_cols)\n",
    "train_imputed['sii'] = train_imputed['sii'].round().astype(int)\n",
    "\n",
    "for col in train.columns:\n",
    "    if col not in numeric_cols:\n",
    "        train_imputed[col] = train[col]\n",
    "\n",
    "train = train_imputed\n",
    "\n",
    "# Điền giá trị thiếu cho các cột season trong train data\n",
    "cat_cols = train.select_dtypes(include=['object']).columns\n",
    "cat_imputer = SimpleImputer(strategy='most_frequent')\n",
    "train[cat_cols] = cat_imputer.fit_transform(train[cat_cols])\n",
    "\n",
    "# Chuyển giá trị season sang số nguyên\n",
    "season_mapping = {'Spring': 1, 'Summer': 2, 'Fall': 3, 'Winter': 4}\n",
    "for col in season_cols:\n",
    "    train[col] = train[col].map(season_mapping)\n",
    "\n",
    "# imputation cho test data (transform từ train data)\n",
    "test[numeric_cols] = imputer.transform(test[numeric_cols])\n",
    "test[cat_cols] = cat_imputer.transform(test[cat_cols])\n",
    "\n",
    "# Chuyển giá trị season sang số nguyên\n",
    "season_mapping = {'Spring': 1, 'Summer': 2, 'Fall': 3, 'Winter': 4}\n",
    "for col in season_cols:\n",
    "    test[col] = test[col].map(season_mapping)\n",
    "\n",
    "test = test.drop('sii', axis=1)\n",
    "test = test.drop('PCIAT-PCIAT_Total', axis=1) # Đến đây, train hơn test 2 cột 'sii' và 'PCIAT-PCIAT_TOTAL'\n",
    "\n",
    "train.isna().sum()"
   ]
  },
  {
   "cell_type": "code",
   "execution_count": 14,
   "id": "ce9131eb",
   "metadata": {
    "execution": {
     "iopub.execute_input": "2024-12-18T19:29:20.538168Z",
     "iopub.status.busy": "2024-12-18T19:29:20.537403Z",
     "iopub.status.idle": "2024-12-18T19:29:20.546399Z",
     "shell.execute_reply": "2024-12-18T19:29:20.545335Z"
    },
    "papermill": {
     "duration": 0.04618,
     "end_time": "2024-12-18T19:29:20.548283",
     "exception": false,
     "start_time": "2024-12-18T19:29:20.502103",
     "status": "completed"
    },
    "tags": []
   },
   "outputs": [
    {
     "data": {
      "text/plain": [
       "Basic_Demos-Age                           0\n",
       "Basic_Demos-Sex                           0\n",
       "CGAS-CGAS_Score                           0\n",
       "Physical-BMI                              0\n",
       "Physical-Height                           0\n",
       "Physical-Weight                           0\n",
       "Physical-Diastolic_BP                     0\n",
       "Physical-HeartRate                        0\n",
       "Physical-Systolic_BP                      0\n",
       "FGC-FGC_CU                                0\n",
       "FGC-FGC_TL                                0\n",
       "SDS-SDS_Total_Raw                         0\n",
       "SDS-SDS_Total_T                           0\n",
       "PreInt_EduHx-computerinternet_hoursday    0\n",
       "BMI_Age                                   0\n",
       "Internet_Hours_Age                        0\n",
       "BMI_Internet_Hours                        0\n",
       "Basic_Demos-Enroll_Season                 0\n",
       "CGAS-Season                               0\n",
       "Physical-Season                           0\n",
       "FGC-Season                                0\n",
       "SDS-Season                                0\n",
       "PreInt_EduHx-Season                       0\n",
       "dtype: int64"
      ]
     },
     "execution_count": 14,
     "metadata": {},
     "output_type": "execute_result"
    }
   ],
   "source": [
    "test.isna().sum()"
   ]
  },
  {
   "cell_type": "code",
   "execution_count": 15,
   "id": "b3194dd6",
   "metadata": {
    "execution": {
     "iopub.execute_input": "2024-12-18T19:29:20.603801Z",
     "iopub.status.busy": "2024-12-18T19:29:20.603402Z",
     "iopub.status.idle": "2024-12-18T19:29:20.609819Z",
     "shell.execute_reply": "2024-12-18T19:29:20.608782Z"
    },
    "papermill": {
     "duration": 0.036268,
     "end_time": "2024-12-18T19:29:20.611649",
     "exception": false,
     "start_time": "2024-12-18T19:29:20.575381",
     "status": "completed"
    },
    "tags": []
   },
   "outputs": [
    {
     "data": {
      "text/plain": [
       "(2736, 25)"
      ]
     },
     "execution_count": 15,
     "metadata": {},
     "output_type": "execute_result"
    }
   ],
   "source": [
    "train.shape"
   ]
  },
  {
   "cell_type": "code",
   "execution_count": 16,
   "id": "2db4d9b0",
   "metadata": {
    "execution": {
     "iopub.execute_input": "2024-12-18T19:29:20.667557Z",
     "iopub.status.busy": "2024-12-18T19:29:20.667021Z",
     "iopub.status.idle": "2024-12-18T19:29:20.676121Z",
     "shell.execute_reply": "2024-12-18T19:29:20.675180Z"
    },
    "papermill": {
     "duration": 0.039327,
     "end_time": "2024-12-18T19:29:20.678102",
     "exception": false,
     "start_time": "2024-12-18T19:29:20.638775",
     "status": "completed"
    },
    "tags": []
   },
   "outputs": [
    {
     "data": {
      "text/plain": [
       "Basic_Demos-Age                           0\n",
       "Basic_Demos-Sex                           0\n",
       "CGAS-CGAS_Score                           0\n",
       "Physical-BMI                              0\n",
       "Physical-Height                           0\n",
       "Physical-Weight                           0\n",
       "Physical-Diastolic_BP                     0\n",
       "Physical-HeartRate                        0\n",
       "Physical-Systolic_BP                      0\n",
       "FGC-FGC_CU                                0\n",
       "FGC-FGC_TL                                0\n",
       "SDS-SDS_Total_Raw                         0\n",
       "SDS-SDS_Total_T                           0\n",
       "PreInt_EduHx-computerinternet_hoursday    0\n",
       "sii                                       0\n",
       "BMI_Age                                   0\n",
       "Internet_Hours_Age                        0\n",
       "BMI_Internet_Hours                        0\n",
       "PCIAT-PCIAT_Total                         0\n",
       "Basic_Demos-Enroll_Season                 0\n",
       "CGAS-Season                               0\n",
       "Physical-Season                           0\n",
       "FGC-Season                                0\n",
       "SDS-Season                                0\n",
       "PreInt_EduHx-Season                       0\n",
       "dtype: int64"
      ]
     },
     "execution_count": 16,
     "metadata": {},
     "output_type": "execute_result"
    }
   ],
   "source": [
    "train.isna().sum()"
   ]
  },
  {
   "cell_type": "code",
   "execution_count": 17,
   "id": "c32cdf68",
   "metadata": {
    "execution": {
     "iopub.execute_input": "2024-12-18T19:29:20.735305Z",
     "iopub.status.busy": "2024-12-18T19:29:20.734892Z",
     "iopub.status.idle": "2024-12-18T19:29:20.743663Z",
     "shell.execute_reply": "2024-12-18T19:29:20.742695Z"
    },
    "papermill": {
     "duration": 0.040293,
     "end_time": "2024-12-18T19:29:20.745684",
     "exception": false,
     "start_time": "2024-12-18T19:29:20.705391",
     "status": "completed"
    },
    "tags": []
   },
   "outputs": [
    {
     "data": {
      "text/plain": [
       "Basic_Demos-Age                           0\n",
       "Basic_Demos-Sex                           0\n",
       "CGAS-CGAS_Score                           0\n",
       "Physical-BMI                              0\n",
       "Physical-Height                           0\n",
       "Physical-Weight                           0\n",
       "Physical-Diastolic_BP                     0\n",
       "Physical-HeartRate                        0\n",
       "Physical-Systolic_BP                      0\n",
       "FGC-FGC_CU                                0\n",
       "FGC-FGC_TL                                0\n",
       "SDS-SDS_Total_Raw                         0\n",
       "SDS-SDS_Total_T                           0\n",
       "PreInt_EduHx-computerinternet_hoursday    0\n",
       "BMI_Age                                   0\n",
       "Internet_Hours_Age                        0\n",
       "BMI_Internet_Hours                        0\n",
       "Basic_Demos-Enroll_Season                 0\n",
       "CGAS-Season                               0\n",
       "Physical-Season                           0\n",
       "FGC-Season                                0\n",
       "SDS-Season                                0\n",
       "PreInt_EduHx-Season                       0\n",
       "dtype: int64"
      ]
     },
     "execution_count": 17,
     "metadata": {},
     "output_type": "execute_result"
    }
   ],
   "source": [
    "test.isna().sum()"
   ]
  },
  {
   "cell_type": "code",
   "execution_count": 18,
   "id": "a2e53a48",
   "metadata": {
    "execution": {
     "iopub.execute_input": "2024-12-18T19:29:20.802928Z",
     "iopub.status.busy": "2024-12-18T19:29:20.802526Z",
     "iopub.status.idle": "2024-12-18T19:29:20.839582Z",
     "shell.execute_reply": "2024-12-18T19:29:20.838501Z"
    },
    "papermill": {
     "duration": 0.068178,
     "end_time": "2024-12-18T19:29:20.841609",
     "exception": false,
     "start_time": "2024-12-18T19:29:20.773431",
     "status": "completed"
    },
    "tags": []
   },
   "outputs": [
    {
     "data": {
      "text/html": [
       "<div>\n",
       "<style scoped>\n",
       "    .dataframe tbody tr th:only-of-type {\n",
       "        vertical-align: middle;\n",
       "    }\n",
       "\n",
       "    .dataframe tbody tr th {\n",
       "        vertical-align: top;\n",
       "    }\n",
       "\n",
       "    .dataframe thead th {\n",
       "        text-align: right;\n",
       "    }\n",
       "</style>\n",
       "<table border=\"1\" class=\"dataframe\">\n",
       "  <thead>\n",
       "    <tr style=\"text-align: right;\">\n",
       "      <th></th>\n",
       "      <th>stat_0</th>\n",
       "      <th>stat_1</th>\n",
       "      <th>stat_2</th>\n",
       "      <th>stat_3</th>\n",
       "      <th>stat_4</th>\n",
       "      <th>stat_5</th>\n",
       "      <th>stat_6</th>\n",
       "      <th>stat_7</th>\n",
       "      <th>stat_8</th>\n",
       "      <th>stat_9</th>\n",
       "      <th>...</th>\n",
       "      <th>stat_86</th>\n",
       "      <th>stat_87</th>\n",
       "      <th>stat_88</th>\n",
       "      <th>stat_89</th>\n",
       "      <th>stat_90</th>\n",
       "      <th>stat_91</th>\n",
       "      <th>stat_92</th>\n",
       "      <th>stat_93</th>\n",
       "      <th>stat_94</th>\n",
       "      <th>stat_95</th>\n",
       "    </tr>\n",
       "  </thead>\n",
       "  <tbody>\n",
       "    <tr>\n",
       "      <th>0</th>\n",
       "      <td>50458.0</td>\n",
       "      <td>50458.0</td>\n",
       "      <td>50458.0</td>\n",
       "      <td>50458.0</td>\n",
       "      <td>50458.0</td>\n",
       "      <td>50458.0</td>\n",
       "      <td>50458.0</td>\n",
       "      <td>50458.0</td>\n",
       "      <td>50458.0</td>\n",
       "      <td>50458.0</td>\n",
       "      <td>...</td>\n",
       "      <td>1.738203</td>\n",
       "      <td>5.314874</td>\n",
       "      <td>89.422226</td>\n",
       "      <td>0.0</td>\n",
       "      <td>2626.199951</td>\n",
       "      <td>4187.0</td>\n",
       "      <td>8.639500e+13</td>\n",
       "      <td>7.0</td>\n",
       "      <td>2.0</td>\n",
       "      <td>57.0</td>\n",
       "    </tr>\n",
       "    <tr>\n",
       "      <th>1</th>\n",
       "      <td>340584.0</td>\n",
       "      <td>340584.0</td>\n",
       "      <td>340584.0</td>\n",
       "      <td>340584.0</td>\n",
       "      <td>340584.0</td>\n",
       "      <td>340584.0</td>\n",
       "      <td>340584.0</td>\n",
       "      <td>340584.0</td>\n",
       "      <td>340584.0</td>\n",
       "      <td>340584.0</td>\n",
       "      <td>...</td>\n",
       "      <td>2.475326</td>\n",
       "      <td>3.966906</td>\n",
       "      <td>89.080330</td>\n",
       "      <td>1.0</td>\n",
       "      <td>2628.199951</td>\n",
       "      <td>4146.0</td>\n",
       "      <td>8.639500e+13</td>\n",
       "      <td>7.0</td>\n",
       "      <td>2.0</td>\n",
       "      <td>243.0</td>\n",
       "    </tr>\n",
       "    <tr>\n",
       "      <th>2</th>\n",
       "      <td>40003.0</td>\n",
       "      <td>40003.0</td>\n",
       "      <td>40003.0</td>\n",
       "      <td>40003.0</td>\n",
       "      <td>40003.0</td>\n",
       "      <td>40003.0</td>\n",
       "      <td>40003.0</td>\n",
       "      <td>40003.0</td>\n",
       "      <td>40003.0</td>\n",
       "      <td>40003.0</td>\n",
       "      <td>...</td>\n",
       "      <td>1.746797</td>\n",
       "      <td>5.066334</td>\n",
       "      <td>86.987267</td>\n",
       "      <td>0.0</td>\n",
       "      <td>2618.199951</td>\n",
       "      <td>4183.0</td>\n",
       "      <td>8.636500e+13</td>\n",
       "      <td>7.0</td>\n",
       "      <td>3.0</td>\n",
       "      <td>134.0</td>\n",
       "    </tr>\n",
       "    <tr>\n",
       "      <th>3</th>\n",
       "      <td>223915.0</td>\n",
       "      <td>223915.0</td>\n",
       "      <td>223915.0</td>\n",
       "      <td>223915.0</td>\n",
       "      <td>223915.0</td>\n",
       "      <td>223915.0</td>\n",
       "      <td>223915.0</td>\n",
       "      <td>223915.0</td>\n",
       "      <td>223915.0</td>\n",
       "      <td>223915.0</td>\n",
       "      <td>...</td>\n",
       "      <td>1.269051</td>\n",
       "      <td>6.134459</td>\n",
       "      <td>89.976074</td>\n",
       "      <td>0.0</td>\n",
       "      <td>2502.000000</td>\n",
       "      <td>6000.0</td>\n",
       "      <td>8.639500e+13</td>\n",
       "      <td>7.0</td>\n",
       "      <td>4.0</td>\n",
       "      <td>72.0</td>\n",
       "    </tr>\n",
       "    <tr>\n",
       "      <th>4</th>\n",
       "      <td>15420.0</td>\n",
       "      <td>15420.0</td>\n",
       "      <td>15420.0</td>\n",
       "      <td>15420.0</td>\n",
       "      <td>15420.0</td>\n",
       "      <td>15420.0</td>\n",
       "      <td>15420.0</td>\n",
       "      <td>15420.0</td>\n",
       "      <td>15420.0</td>\n",
       "      <td>15420.0</td>\n",
       "      <td>...</td>\n",
       "      <td>1.071875</td>\n",
       "      <td>2.774382</td>\n",
       "      <td>89.300034</td>\n",
       "      <td>0.0</td>\n",
       "      <td>1046.800049</td>\n",
       "      <td>4199.0</td>\n",
       "      <td>8.601500e+13</td>\n",
       "      <td>7.0</td>\n",
       "      <td>4.0</td>\n",
       "      <td>76.0</td>\n",
       "    </tr>\n",
       "    <tr>\n",
       "      <th>...</th>\n",
       "      <td>...</td>\n",
       "      <td>...</td>\n",
       "      <td>...</td>\n",
       "      <td>...</td>\n",
       "      <td>...</td>\n",
       "      <td>...</td>\n",
       "      <td>...</td>\n",
       "      <td>...</td>\n",
       "      <td>...</td>\n",
       "      <td>...</td>\n",
       "      <td>...</td>\n",
       "      <td>...</td>\n",
       "      <td>...</td>\n",
       "      <td>...</td>\n",
       "      <td>...</td>\n",
       "      <td>...</td>\n",
       "      <td>...</td>\n",
       "      <td>...</td>\n",
       "      <td>...</td>\n",
       "      <td>...</td>\n",
       "      <td>...</td>\n",
       "    </tr>\n",
       "    <tr>\n",
       "      <th>991</th>\n",
       "      <td>394128.0</td>\n",
       "      <td>394128.0</td>\n",
       "      <td>394128.0</td>\n",
       "      <td>394128.0</td>\n",
       "      <td>394128.0</td>\n",
       "      <td>394128.0</td>\n",
       "      <td>394128.0</td>\n",
       "      <td>394128.0</td>\n",
       "      <td>394128.0</td>\n",
       "      <td>394128.0</td>\n",
       "      <td>...</td>\n",
       "      <td>2.099614</td>\n",
       "      <td>3.669502</td>\n",
       "      <td>89.025551</td>\n",
       "      <td>1.0</td>\n",
       "      <td>2576.399902</td>\n",
       "      <td>4191.0</td>\n",
       "      <td>8.639500e+13</td>\n",
       "      <td>7.0</td>\n",
       "      <td>4.0</td>\n",
       "      <td>161.0</td>\n",
       "    </tr>\n",
       "    <tr>\n",
       "      <th>992</th>\n",
       "      <td>1195.0</td>\n",
       "      <td>1195.0</td>\n",
       "      <td>1195.0</td>\n",
       "      <td>1195.0</td>\n",
       "      <td>1195.0</td>\n",
       "      <td>1195.0</td>\n",
       "      <td>1195.0</td>\n",
       "      <td>1195.0</td>\n",
       "      <td>1195.0</td>\n",
       "      <td>1195.0</td>\n",
       "      <td>...</td>\n",
       "      <td>0.996484</td>\n",
       "      <td>1.786410</td>\n",
       "      <td>81.665283</td>\n",
       "      <td>0.0</td>\n",
       "      <td>1526.599976</td>\n",
       "      <td>4194.0</td>\n",
       "      <td>8.514000e+13</td>\n",
       "      <td>7.0</td>\n",
       "      <td>2.0</td>\n",
       "      <td>130.0</td>\n",
       "    </tr>\n",
       "    <tr>\n",
       "      <th>993</th>\n",
       "      <td>393240.0</td>\n",
       "      <td>393240.0</td>\n",
       "      <td>393240.0</td>\n",
       "      <td>393240.0</td>\n",
       "      <td>393240.0</td>\n",
       "      <td>393240.0</td>\n",
       "      <td>393240.0</td>\n",
       "      <td>393240.0</td>\n",
       "      <td>393240.0</td>\n",
       "      <td>393240.0</td>\n",
       "      <td>...</td>\n",
       "      <td>1.547813</td>\n",
       "      <td>3.692727</td>\n",
       "      <td>89.333710</td>\n",
       "      <td>1.0</td>\n",
       "      <td>2592.199951</td>\n",
       "      <td>4178.0</td>\n",
       "      <td>8.639500e+13</td>\n",
       "      <td>7.0</td>\n",
       "      <td>1.0</td>\n",
       "      <td>79.0</td>\n",
       "    </tr>\n",
       "    <tr>\n",
       "      <th>994</th>\n",
       "      <td>40085.0</td>\n",
       "      <td>40085.0</td>\n",
       "      <td>40085.0</td>\n",
       "      <td>40085.0</td>\n",
       "      <td>40085.0</td>\n",
       "      <td>40085.0</td>\n",
       "      <td>40085.0</td>\n",
       "      <td>40085.0</td>\n",
       "      <td>40085.0</td>\n",
       "      <td>40085.0</td>\n",
       "      <td>...</td>\n",
       "      <td>0.999219</td>\n",
       "      <td>1.673958</td>\n",
       "      <td>88.629547</td>\n",
       "      <td>0.0</td>\n",
       "      <td>1875.199951</td>\n",
       "      <td>4183.0</td>\n",
       "      <td>8.639500e+13</td>\n",
       "      <td>7.0</td>\n",
       "      <td>1.0</td>\n",
       "      <td>155.0</td>\n",
       "    </tr>\n",
       "    <tr>\n",
       "      <th>995</th>\n",
       "      <td>342324.0</td>\n",
       "      <td>342324.0</td>\n",
       "      <td>342324.0</td>\n",
       "      <td>342324.0</td>\n",
       "      <td>342324.0</td>\n",
       "      <td>342324.0</td>\n",
       "      <td>342324.0</td>\n",
       "      <td>342324.0</td>\n",
       "      <td>342324.0</td>\n",
       "      <td>342324.0</td>\n",
       "      <td>...</td>\n",
       "      <td>1.006835</td>\n",
       "      <td>1.009104</td>\n",
       "      <td>88.652969</td>\n",
       "      <td>1.0</td>\n",
       "      <td>1196.599976</td>\n",
       "      <td>4176.0</td>\n",
       "      <td>8.639500e+13</td>\n",
       "      <td>7.0</td>\n",
       "      <td>4.0</td>\n",
       "      <td>20.0</td>\n",
       "    </tr>\n",
       "  </tbody>\n",
       "</table>\n",
       "<p>996 rows × 96 columns</p>\n",
       "</div>"
      ],
      "text/plain": [
       "       stat_0    stat_1    stat_2    stat_3    stat_4    stat_5    stat_6  \\\n",
       "0     50458.0   50458.0   50458.0   50458.0   50458.0   50458.0   50458.0   \n",
       "1    340584.0  340584.0  340584.0  340584.0  340584.0  340584.0  340584.0   \n",
       "2     40003.0   40003.0   40003.0   40003.0   40003.0   40003.0   40003.0   \n",
       "3    223915.0  223915.0  223915.0  223915.0  223915.0  223915.0  223915.0   \n",
       "4     15420.0   15420.0   15420.0   15420.0   15420.0   15420.0   15420.0   \n",
       "..        ...       ...       ...       ...       ...       ...       ...   \n",
       "991  394128.0  394128.0  394128.0  394128.0  394128.0  394128.0  394128.0   \n",
       "992    1195.0    1195.0    1195.0    1195.0    1195.0    1195.0    1195.0   \n",
       "993  393240.0  393240.0  393240.0  393240.0  393240.0  393240.0  393240.0   \n",
       "994   40085.0   40085.0   40085.0   40085.0   40085.0   40085.0   40085.0   \n",
       "995  342324.0  342324.0  342324.0  342324.0  342324.0  342324.0  342324.0   \n",
       "\n",
       "       stat_7    stat_8    stat_9  ...   stat_86   stat_87    stat_88  \\\n",
       "0     50458.0   50458.0   50458.0  ...  1.738203  5.314874  89.422226   \n",
       "1    340584.0  340584.0  340584.0  ...  2.475326  3.966906  89.080330   \n",
       "2     40003.0   40003.0   40003.0  ...  1.746797  5.066334  86.987267   \n",
       "3    223915.0  223915.0  223915.0  ...  1.269051  6.134459  89.976074   \n",
       "4     15420.0   15420.0   15420.0  ...  1.071875  2.774382  89.300034   \n",
       "..        ...       ...       ...  ...       ...       ...        ...   \n",
       "991  394128.0  394128.0  394128.0  ...  2.099614  3.669502  89.025551   \n",
       "992    1195.0    1195.0    1195.0  ...  0.996484  1.786410  81.665283   \n",
       "993  393240.0  393240.0  393240.0  ...  1.547813  3.692727  89.333710   \n",
       "994   40085.0   40085.0   40085.0  ...  0.999219  1.673958  88.629547   \n",
       "995  342324.0  342324.0  342324.0  ...  1.006835  1.009104  88.652969   \n",
       "\n",
       "     stat_89      stat_90  stat_91       stat_92  stat_93  stat_94  stat_95  \n",
       "0        0.0  2626.199951   4187.0  8.639500e+13      7.0      2.0     57.0  \n",
       "1        1.0  2628.199951   4146.0  8.639500e+13      7.0      2.0    243.0  \n",
       "2        0.0  2618.199951   4183.0  8.636500e+13      7.0      3.0    134.0  \n",
       "3        0.0  2502.000000   6000.0  8.639500e+13      7.0      4.0     72.0  \n",
       "4        0.0  1046.800049   4199.0  8.601500e+13      7.0      4.0     76.0  \n",
       "..       ...          ...      ...           ...      ...      ...      ...  \n",
       "991      1.0  2576.399902   4191.0  8.639500e+13      7.0      4.0    161.0  \n",
       "992      0.0  1526.599976   4194.0  8.514000e+13      7.0      2.0    130.0  \n",
       "993      1.0  2592.199951   4178.0  8.639500e+13      7.0      1.0     79.0  \n",
       "994      0.0  1875.199951   4183.0  8.639500e+13      7.0      1.0    155.0  \n",
       "995      1.0  1196.599976   4176.0  8.639500e+13      7.0      4.0     20.0  \n",
       "\n",
       "[996 rows x 96 columns]"
      ]
     },
     "execution_count": 18,
     "metadata": {},
     "output_type": "execute_result"
    }
   ],
   "source": [
    "df_train"
   ]
  },
  {
   "cell_type": "code",
   "execution_count": 19,
   "id": "33c27f4f",
   "metadata": {
    "execution": {
     "iopub.execute_input": "2024-12-18T19:29:20.900076Z",
     "iopub.status.busy": "2024-12-18T19:29:20.899130Z",
     "iopub.status.idle": "2024-12-18T19:29:20.928057Z",
     "shell.execute_reply": "2024-12-18T19:29:20.927012Z"
    },
    "papermill": {
     "duration": 0.060755,
     "end_time": "2024-12-18T19:29:20.930605",
     "exception": false,
     "start_time": "2024-12-18T19:29:20.869850",
     "status": "completed"
    },
    "tags": []
   },
   "outputs": [
    {
     "data": {
      "text/html": [
       "<div>\n",
       "<style scoped>\n",
       "    .dataframe tbody tr th:only-of-type {\n",
       "        vertical-align: middle;\n",
       "    }\n",
       "\n",
       "    .dataframe tbody tr th {\n",
       "        vertical-align: top;\n",
       "    }\n",
       "\n",
       "    .dataframe thead th {\n",
       "        text-align: right;\n",
       "    }\n",
       "</style>\n",
       "<table border=\"1\" class=\"dataframe\">\n",
       "  <thead>\n",
       "    <tr style=\"text-align: right;\">\n",
       "      <th></th>\n",
       "      <th>Basic_Demos-Age</th>\n",
       "      <th>Basic_Demos-Sex</th>\n",
       "      <th>CGAS-CGAS_Score</th>\n",
       "      <th>Physical-BMI</th>\n",
       "      <th>Physical-Height</th>\n",
       "      <th>Physical-Weight</th>\n",
       "      <th>Physical-Diastolic_BP</th>\n",
       "      <th>Physical-HeartRate</th>\n",
       "      <th>Physical-Systolic_BP</th>\n",
       "      <th>FGC-FGC_CU</th>\n",
       "      <th>...</th>\n",
       "      <th>BMI_Age</th>\n",
       "      <th>Internet_Hours_Age</th>\n",
       "      <th>BMI_Internet_Hours</th>\n",
       "      <th>PCIAT-PCIAT_Total</th>\n",
       "      <th>Basic_Demos-Enroll_Season</th>\n",
       "      <th>CGAS-Season</th>\n",
       "      <th>Physical-Season</th>\n",
       "      <th>FGC-Season</th>\n",
       "      <th>SDS-Season</th>\n",
       "      <th>PreInt_EduHx-Season</th>\n",
       "    </tr>\n",
       "  </thead>\n",
       "  <tbody>\n",
       "    <tr>\n",
       "      <th>0</th>\n",
       "      <td>5.0</td>\n",
       "      <td>0.0</td>\n",
       "      <td>51.0</td>\n",
       "      <td>16.877316</td>\n",
       "      <td>46.0</td>\n",
       "      <td>50.8</td>\n",
       "      <td>66.6</td>\n",
       "      <td>81.0</td>\n",
       "      <td>114.0</td>\n",
       "      <td>0.0</td>\n",
       "      <td>...</td>\n",
       "      <td>84.386578</td>\n",
       "      <td>15.0</td>\n",
       "      <td>50.631947</td>\n",
       "      <td>55.0</td>\n",
       "      <td>3</td>\n",
       "      <td>4</td>\n",
       "      <td>3</td>\n",
       "      <td>3</td>\n",
       "      <td>1</td>\n",
       "      <td>3</td>\n",
       "    </tr>\n",
       "    <tr>\n",
       "      <th>1</th>\n",
       "      <td>9.0</td>\n",
       "      <td>0.0</td>\n",
       "      <td>63.4</td>\n",
       "      <td>14.035590</td>\n",
       "      <td>48.0</td>\n",
       "      <td>46.0</td>\n",
       "      <td>75.0</td>\n",
       "      <td>70.0</td>\n",
       "      <td>122.0</td>\n",
       "      <td>3.0</td>\n",
       "      <td>...</td>\n",
       "      <td>126.320313</td>\n",
       "      <td>0.0</td>\n",
       "      <td>0.000000</td>\n",
       "      <td>0.0</td>\n",
       "      <td>2</td>\n",
       "      <td>1</td>\n",
       "      <td>3</td>\n",
       "      <td>3</td>\n",
       "      <td>3</td>\n",
       "      <td>2</td>\n",
       "    </tr>\n",
       "    <tr>\n",
       "      <th>2</th>\n",
       "      <td>10.0</td>\n",
       "      <td>1.0</td>\n",
       "      <td>71.0</td>\n",
       "      <td>16.648696</td>\n",
       "      <td>56.5</td>\n",
       "      <td>75.6</td>\n",
       "      <td>65.0</td>\n",
       "      <td>94.0</td>\n",
       "      <td>117.0</td>\n",
       "      <td>20.0</td>\n",
       "      <td>...</td>\n",
       "      <td>166.486961</td>\n",
       "      <td>20.0</td>\n",
       "      <td>33.297392</td>\n",
       "      <td>28.0</td>\n",
       "      <td>2</td>\n",
       "      <td>3</td>\n",
       "      <td>3</td>\n",
       "      <td>3</td>\n",
       "      <td>3</td>\n",
       "      <td>2</td>\n",
       "    </tr>\n",
       "    <tr>\n",
       "      <th>3</th>\n",
       "      <td>9.0</td>\n",
       "      <td>0.0</td>\n",
       "      <td>71.0</td>\n",
       "      <td>18.292347</td>\n",
       "      <td>56.0</td>\n",
       "      <td>81.6</td>\n",
       "      <td>60.0</td>\n",
       "      <td>97.0</td>\n",
       "      <td>117.0</td>\n",
       "      <td>18.0</td>\n",
       "      <td>...</td>\n",
       "      <td>164.631122</td>\n",
       "      <td>0.0</td>\n",
       "      <td>0.000000</td>\n",
       "      <td>44.0</td>\n",
       "      <td>4</td>\n",
       "      <td>3</td>\n",
       "      <td>2</td>\n",
       "      <td>2</td>\n",
       "      <td>2</td>\n",
       "      <td>4</td>\n",
       "    </tr>\n",
       "    <tr>\n",
       "      <th>4</th>\n",
       "      <td>13.0</td>\n",
       "      <td>1.0</td>\n",
       "      <td>50.0</td>\n",
       "      <td>22.279952</td>\n",
       "      <td>59.5</td>\n",
       "      <td>112.2</td>\n",
       "      <td>60.0</td>\n",
       "      <td>73.0</td>\n",
       "      <td>102.0</td>\n",
       "      <td>12.0</td>\n",
       "      <td>...</td>\n",
       "      <td>289.639376</td>\n",
       "      <td>0.0</td>\n",
       "      <td>0.000000</td>\n",
       "      <td>34.0</td>\n",
       "      <td>1</td>\n",
       "      <td>1</td>\n",
       "      <td>1</td>\n",
       "      <td>1</td>\n",
       "      <td>1</td>\n",
       "      <td>1</td>\n",
       "    </tr>\n",
       "    <tr>\n",
       "      <th>...</th>\n",
       "      <td>...</td>\n",
       "      <td>...</td>\n",
       "      <td>...</td>\n",
       "      <td>...</td>\n",
       "      <td>...</td>\n",
       "      <td>...</td>\n",
       "      <td>...</td>\n",
       "      <td>...</td>\n",
       "      <td>...</td>\n",
       "      <td>...</td>\n",
       "      <td>...</td>\n",
       "      <td>...</td>\n",
       "      <td>...</td>\n",
       "      <td>...</td>\n",
       "      <td>...</td>\n",
       "      <td>...</td>\n",
       "      <td>...</td>\n",
       "      <td>...</td>\n",
       "      <td>...</td>\n",
       "      <td>...</td>\n",
       "      <td>...</td>\n",
       "    </tr>\n",
       "    <tr>\n",
       "      <th>2731</th>\n",
       "      <td>8.0</td>\n",
       "      <td>0.0</td>\n",
       "      <td>70.8</td>\n",
       "      <td>17.139810</td>\n",
       "      <td>52.5</td>\n",
       "      <td>67.2</td>\n",
       "      <td>60.0</td>\n",
       "      <td>65.0</td>\n",
       "      <td>112.0</td>\n",
       "      <td>0.0</td>\n",
       "      <td>...</td>\n",
       "      <td>137.118476</td>\n",
       "      <td>16.0</td>\n",
       "      <td>34.279619</td>\n",
       "      <td>22.0</td>\n",
       "      <td>4</td>\n",
       "      <td>1</td>\n",
       "      <td>4</td>\n",
       "      <td>4</td>\n",
       "      <td>4</td>\n",
       "      <td>4</td>\n",
       "    </tr>\n",
       "    <tr>\n",
       "      <th>2732</th>\n",
       "      <td>7.0</td>\n",
       "      <td>1.0</td>\n",
       "      <td>57.4</td>\n",
       "      <td>13.927006</td>\n",
       "      <td>48.5</td>\n",
       "      <td>46.6</td>\n",
       "      <td>65.0</td>\n",
       "      <td>75.0</td>\n",
       "      <td>105.0</td>\n",
       "      <td>0.0</td>\n",
       "      <td>...</td>\n",
       "      <td>97.489042</td>\n",
       "      <td>0.0</td>\n",
       "      <td>0.000000</td>\n",
       "      <td>33.0</td>\n",
       "      <td>1</td>\n",
       "      <td>3</td>\n",
       "      <td>2</td>\n",
       "      <td>2</td>\n",
       "      <td>2</td>\n",
       "      <td>1</td>\n",
       "    </tr>\n",
       "    <tr>\n",
       "      <th>2733</th>\n",
       "      <td>13.0</td>\n",
       "      <td>0.0</td>\n",
       "      <td>60.0</td>\n",
       "      <td>16.362460</td>\n",
       "      <td>59.5</td>\n",
       "      <td>82.4</td>\n",
       "      <td>71.0</td>\n",
       "      <td>70.0</td>\n",
       "      <td>104.0</td>\n",
       "      <td>16.0</td>\n",
       "      <td>...</td>\n",
       "      <td>212.711984</td>\n",
       "      <td>13.0</td>\n",
       "      <td>16.362460</td>\n",
       "      <td>32.0</td>\n",
       "      <td>1</td>\n",
       "      <td>2</td>\n",
       "      <td>2</td>\n",
       "      <td>2</td>\n",
       "      <td>2</td>\n",
       "      <td>1</td>\n",
       "    </tr>\n",
       "    <tr>\n",
       "      <th>2734</th>\n",
       "      <td>11.0</td>\n",
       "      <td>0.0</td>\n",
       "      <td>68.0</td>\n",
       "      <td>21.441500</td>\n",
       "      <td>60.0</td>\n",
       "      <td>109.8</td>\n",
       "      <td>79.0</td>\n",
       "      <td>99.0</td>\n",
       "      <td>116.0</td>\n",
       "      <td>15.0</td>\n",
       "      <td>...</td>\n",
       "      <td>235.856500</td>\n",
       "      <td>0.0</td>\n",
       "      <td>0.000000</td>\n",
       "      <td>31.0</td>\n",
       "      <td>1</td>\n",
       "      <td>1</td>\n",
       "      <td>1</td>\n",
       "      <td>1</td>\n",
       "      <td>1</td>\n",
       "      <td>1</td>\n",
       "    </tr>\n",
       "    <tr>\n",
       "      <th>2735</th>\n",
       "      <td>13.0</td>\n",
       "      <td>0.0</td>\n",
       "      <td>70.0</td>\n",
       "      <td>12.235895</td>\n",
       "      <td>70.7</td>\n",
       "      <td>87.0</td>\n",
       "      <td>59.0</td>\n",
       "      <td>61.0</td>\n",
       "      <td>113.0</td>\n",
       "      <td>8.8</td>\n",
       "      <td>...</td>\n",
       "      <td>159.066638</td>\n",
       "      <td>13.0</td>\n",
       "      <td>12.235895</td>\n",
       "      <td>19.0</td>\n",
       "      <td>3</td>\n",
       "      <td>1</td>\n",
       "      <td>4</td>\n",
       "      <td>4</td>\n",
       "      <td>4</td>\n",
       "      <td>3</td>\n",
       "    </tr>\n",
       "  </tbody>\n",
       "</table>\n",
       "<p>2736 rows × 25 columns</p>\n",
       "</div>"
      ],
      "text/plain": [
       "      Basic_Demos-Age  Basic_Demos-Sex  CGAS-CGAS_Score  Physical-BMI  \\\n",
       "0                 5.0              0.0             51.0     16.877316   \n",
       "1                 9.0              0.0             63.4     14.035590   \n",
       "2                10.0              1.0             71.0     16.648696   \n",
       "3                 9.0              0.0             71.0     18.292347   \n",
       "4                13.0              1.0             50.0     22.279952   \n",
       "...               ...              ...              ...           ...   \n",
       "2731              8.0              0.0             70.8     17.139810   \n",
       "2732              7.0              1.0             57.4     13.927006   \n",
       "2733             13.0              0.0             60.0     16.362460   \n",
       "2734             11.0              0.0             68.0     21.441500   \n",
       "2735             13.0              0.0             70.0     12.235895   \n",
       "\n",
       "      Physical-Height  Physical-Weight  Physical-Diastolic_BP  \\\n",
       "0                46.0             50.8                   66.6   \n",
       "1                48.0             46.0                   75.0   \n",
       "2                56.5             75.6                   65.0   \n",
       "3                56.0             81.6                   60.0   \n",
       "4                59.5            112.2                   60.0   \n",
       "...               ...              ...                    ...   \n",
       "2731             52.5             67.2                   60.0   \n",
       "2732             48.5             46.6                   65.0   \n",
       "2733             59.5             82.4                   71.0   \n",
       "2734             60.0            109.8                   79.0   \n",
       "2735             70.7             87.0                   59.0   \n",
       "\n",
       "      Physical-HeartRate  Physical-Systolic_BP  FGC-FGC_CU  ...     BMI_Age  \\\n",
       "0                   81.0                 114.0         0.0  ...   84.386578   \n",
       "1                   70.0                 122.0         3.0  ...  126.320313   \n",
       "2                   94.0                 117.0        20.0  ...  166.486961   \n",
       "3                   97.0                 117.0        18.0  ...  164.631122   \n",
       "4                   73.0                 102.0        12.0  ...  289.639376   \n",
       "...                  ...                   ...         ...  ...         ...   \n",
       "2731                65.0                 112.0         0.0  ...  137.118476   \n",
       "2732                75.0                 105.0         0.0  ...   97.489042   \n",
       "2733                70.0                 104.0        16.0  ...  212.711984   \n",
       "2734                99.0                 116.0        15.0  ...  235.856500   \n",
       "2735                61.0                 113.0         8.8  ...  159.066638   \n",
       "\n",
       "      Internet_Hours_Age  BMI_Internet_Hours  PCIAT-PCIAT_Total  \\\n",
       "0                   15.0           50.631947               55.0   \n",
       "1                    0.0            0.000000                0.0   \n",
       "2                   20.0           33.297392               28.0   \n",
       "3                    0.0            0.000000               44.0   \n",
       "4                    0.0            0.000000               34.0   \n",
       "...                  ...                 ...                ...   \n",
       "2731                16.0           34.279619               22.0   \n",
       "2732                 0.0            0.000000               33.0   \n",
       "2733                13.0           16.362460               32.0   \n",
       "2734                 0.0            0.000000               31.0   \n",
       "2735                13.0           12.235895               19.0   \n",
       "\n",
       "      Basic_Demos-Enroll_Season  CGAS-Season  Physical-Season  FGC-Season  \\\n",
       "0                             3            4                3           3   \n",
       "1                             2            1                3           3   \n",
       "2                             2            3                3           3   \n",
       "3                             4            3                2           2   \n",
       "4                             1            1                1           1   \n",
       "...                         ...          ...              ...         ...   \n",
       "2731                          4            1                4           4   \n",
       "2732                          1            3                2           2   \n",
       "2733                          1            2                2           2   \n",
       "2734                          1            1                1           1   \n",
       "2735                          3            1                4           4   \n",
       "\n",
       "      SDS-Season  PreInt_EduHx-Season  \n",
       "0              1                    3  \n",
       "1              3                    2  \n",
       "2              3                    2  \n",
       "3              2                    4  \n",
       "4              1                    1  \n",
       "...          ...                  ...  \n",
       "2731           4                    4  \n",
       "2732           2                    1  \n",
       "2733           2                    1  \n",
       "2734           1                    1  \n",
       "2735           4                    3  \n",
       "\n",
       "[2736 rows x 25 columns]"
      ]
     },
     "execution_count": 19,
     "metadata": {},
     "output_type": "execute_result"
    }
   ],
   "source": [
    "train"
   ]
  },
  {
   "cell_type": "code",
   "execution_count": 20,
   "id": "5db1eb58",
   "metadata": {
    "execution": {
     "iopub.execute_input": "2024-12-18T19:29:20.989499Z",
     "iopub.status.busy": "2024-12-18T19:29:20.989081Z",
     "iopub.status.idle": "2024-12-18T19:29:20.998382Z",
     "shell.execute_reply": "2024-12-18T19:29:20.997381Z"
    },
    "papermill": {
     "duration": 0.041035,
     "end_time": "2024-12-18T19:29:21.000531",
     "exception": false,
     "start_time": "2024-12-18T19:29:20.959496",
     "status": "completed"
    },
    "tags": []
   },
   "outputs": [
    {
     "data": {
      "text/plain": [
       "Basic_Demos-Age                           0\n",
       "Basic_Demos-Sex                           0\n",
       "CGAS-CGAS_Score                           0\n",
       "Physical-BMI                              0\n",
       "Physical-Height                           0\n",
       "Physical-Weight                           0\n",
       "Physical-Diastolic_BP                     0\n",
       "Physical-HeartRate                        0\n",
       "Physical-Systolic_BP                      0\n",
       "FGC-FGC_CU                                0\n",
       "FGC-FGC_TL                                0\n",
       "SDS-SDS_Total_Raw                         0\n",
       "SDS-SDS_Total_T                           0\n",
       "PreInt_EduHx-computerinternet_hoursday    0\n",
       "sii                                       0\n",
       "BMI_Age                                   0\n",
       "Internet_Hours_Age                        0\n",
       "BMI_Internet_Hours                        0\n",
       "PCIAT-PCIAT_Total                         0\n",
       "Basic_Demos-Enroll_Season                 0\n",
       "CGAS-Season                               0\n",
       "Physical-Season                           0\n",
       "FGC-Season                                0\n",
       "SDS-Season                                0\n",
       "PreInt_EduHx-Season                       0\n",
       "dtype: int64"
      ]
     },
     "execution_count": 20,
     "metadata": {},
     "output_type": "execute_result"
    }
   ],
   "source": [
    "train.isna().sum()"
   ]
  },
  {
   "cell_type": "code",
   "execution_count": 21,
   "id": "42d6aee5",
   "metadata": {
    "execution": {
     "iopub.execute_input": "2024-12-18T19:29:21.059493Z",
     "iopub.status.busy": "2024-12-18T19:29:21.059041Z",
     "iopub.status.idle": "2024-12-18T19:29:21.066268Z",
     "shell.execute_reply": "2024-12-18T19:29:21.065093Z"
    },
    "papermill": {
     "duration": 0.03936,
     "end_time": "2024-12-18T19:29:21.068473",
     "exception": false,
     "start_time": "2024-12-18T19:29:21.029113",
     "status": "completed"
    },
    "tags": []
   },
   "outputs": [
    {
     "data": {
      "text/plain": [
       "['Basic_Demos-Age',\n",
       " 'Basic_Demos-Sex',\n",
       " 'CGAS-CGAS_Score',\n",
       " 'Physical-BMI',\n",
       " 'Physical-Height',\n",
       " 'Physical-Weight',\n",
       " 'Physical-Diastolic_BP',\n",
       " 'Physical-HeartRate',\n",
       " 'Physical-Systolic_BP',\n",
       " 'FGC-FGC_CU',\n",
       " 'FGC-FGC_TL',\n",
       " 'SDS-SDS_Total_Raw',\n",
       " 'SDS-SDS_Total_T',\n",
       " 'PreInt_EduHx-computerinternet_hoursday',\n",
       " 'sii',\n",
       " 'BMI_Age',\n",
       " 'Internet_Hours_Age',\n",
       " 'BMI_Internet_Hours',\n",
       " 'PCIAT-PCIAT_Total',\n",
       " 'Basic_Demos-Enroll_Season',\n",
       " 'CGAS-Season',\n",
       " 'Physical-Season',\n",
       " 'FGC-Season',\n",
       " 'SDS-Season',\n",
       " 'PreInt_EduHx-Season']"
      ]
     },
     "execution_count": 21,
     "metadata": {},
     "output_type": "execute_result"
    }
   ],
   "source": [
    "train.columns.tolist()"
   ]
  },
  {
   "cell_type": "code",
   "execution_count": 22,
   "id": "ad895ad6",
   "metadata": {
    "execution": {
     "iopub.execute_input": "2024-12-18T19:29:21.129205Z",
     "iopub.status.busy": "2024-12-18T19:29:21.128452Z",
     "iopub.status.idle": "2024-12-18T19:29:21.135163Z",
     "shell.execute_reply": "2024-12-18T19:29:21.134139Z"
    },
    "papermill": {
     "duration": 0.039208,
     "end_time": "2024-12-18T19:29:21.137138",
     "exception": false,
     "start_time": "2024-12-18T19:29:21.097930",
     "status": "completed"
    },
    "tags": []
   },
   "outputs": [
    {
     "data": {
      "text/plain": [
       "['Basic_Demos-Age',\n",
       " 'Basic_Demos-Sex',\n",
       " 'CGAS-CGAS_Score',\n",
       " 'Physical-BMI',\n",
       " 'Physical-Height',\n",
       " 'Physical-Weight',\n",
       " 'Physical-Diastolic_BP',\n",
       " 'Physical-HeartRate',\n",
       " 'Physical-Systolic_BP',\n",
       " 'FGC-FGC_CU',\n",
       " 'FGC-FGC_TL',\n",
       " 'SDS-SDS_Total_Raw',\n",
       " 'SDS-SDS_Total_T',\n",
       " 'PreInt_EduHx-computerinternet_hoursday',\n",
       " 'BMI_Age',\n",
       " 'Internet_Hours_Age',\n",
       " 'BMI_Internet_Hours',\n",
       " 'Basic_Demos-Enroll_Season',\n",
       " 'CGAS-Season',\n",
       " 'Physical-Season',\n",
       " 'FGC-Season',\n",
       " 'SDS-Season',\n",
       " 'PreInt_EduHx-Season']"
      ]
     },
     "execution_count": 22,
     "metadata": {},
     "output_type": "execute_result"
    }
   ],
   "source": [
    "test.columns.tolist()"
   ]
  },
  {
   "cell_type": "code",
   "execution_count": 23,
   "id": "02f6b26b",
   "metadata": {
    "execution": {
     "iopub.execute_input": "2024-12-18T19:29:21.198267Z",
     "iopub.status.busy": "2024-12-18T19:29:21.197863Z",
     "iopub.status.idle": "2024-12-18T19:29:21.209676Z",
     "shell.execute_reply": "2024-12-18T19:29:21.208641Z"
    },
    "papermill": {
     "duration": 0.044516,
     "end_time": "2024-12-18T19:29:21.211822",
     "exception": false,
     "start_time": "2024-12-18T19:29:21.167306",
     "status": "completed"
    },
    "tags": []
   },
   "outputs": [
    {
     "data": {
      "text/plain": [
       "Basic_Demos-Age                           0\n",
       "Basic_Demos-Sex                           0\n",
       "CGAS-CGAS_Score                           0\n",
       "Physical-BMI                              0\n",
       "Physical-Height                           0\n",
       "Physical-Weight                           0\n",
       "Physical-Diastolic_BP                     0\n",
       "Physical-HeartRate                        0\n",
       "Physical-Systolic_BP                      0\n",
       "FGC-FGC_CU                                0\n",
       "FGC-FGC_TL                                0\n",
       "SDS-SDS_Total_Raw                         0\n",
       "SDS-SDS_Total_T                           0\n",
       "PreInt_EduHx-computerinternet_hoursday    0\n",
       "sii                                       0\n",
       "BMI_Age                                   0\n",
       "Internet_Hours_Age                        0\n",
       "BMI_Internet_Hours                        0\n",
       "PCIAT-PCIAT_Total                         0\n",
       "Basic_Demos-Enroll_Season                 0\n",
       "CGAS-Season                               0\n",
       "Physical-Season                           0\n",
       "FGC-Season                                0\n",
       "SDS-Season                                0\n",
       "PreInt_EduHx-Season                       0\n",
       "dtype: int64"
      ]
     },
     "execution_count": 23,
     "metadata": {},
     "output_type": "execute_result"
    }
   ],
   "source": [
    "train.dropna(subset = [\"sii\"], inplace = True)\n",
    "train.isna().sum()"
   ]
  },
  {
   "cell_type": "code",
   "execution_count": 24,
   "id": "6cd1f029",
   "metadata": {
    "execution": {
     "iopub.execute_input": "2024-12-18T19:29:21.271995Z",
     "iopub.status.busy": "2024-12-18T19:29:21.271616Z",
     "iopub.status.idle": "2024-12-18T19:29:21.276461Z",
     "shell.execute_reply": "2024-12-18T19:29:21.275382Z"
    },
    "papermill": {
     "duration": 0.037235,
     "end_time": "2024-12-18T19:29:21.278480",
     "exception": false,
     "start_time": "2024-12-18T19:29:21.241245",
     "status": "completed"
    },
    "tags": []
   },
   "outputs": [],
   "source": [
    "np.random.seed(42)"
   ]
  },
  {
   "cell_type": "code",
   "execution_count": 25,
   "id": "b8a322ef",
   "metadata": {
    "execution": {
     "iopub.execute_input": "2024-12-18T19:29:21.340514Z",
     "iopub.status.busy": "2024-12-18T19:29:21.339258Z",
     "iopub.status.idle": "2024-12-18T19:29:21.358031Z",
     "shell.execute_reply": "2024-12-18T19:29:21.356940Z"
    },
    "papermill": {
     "duration": 0.052678,
     "end_time": "2024-12-18T19:29:21.360425",
     "exception": false,
     "start_time": "2024-12-18T19:29:21.307747",
     "status": "completed"
    },
    "tags": []
   },
   "outputs": [
    {
     "data": {
      "text/plain": [
       "<bound method DataFrame.info of       Basic_Demos-Age  Basic_Demos-Sex  CGAS-CGAS_Score  Physical-BMI  \\\n",
       "0                 5.0              0.0             51.0     16.877316   \n",
       "1                 9.0              0.0             63.4     14.035590   \n",
       "2                10.0              1.0             71.0     16.648696   \n",
       "3                 9.0              0.0             71.0     18.292347   \n",
       "4                13.0              1.0             50.0     22.279952   \n",
       "...               ...              ...              ...           ...   \n",
       "2731              8.0              0.0             70.8     17.139810   \n",
       "2732              7.0              1.0             57.4     13.927006   \n",
       "2733             13.0              0.0             60.0     16.362460   \n",
       "2734             11.0              0.0             68.0     21.441500   \n",
       "2735             13.0              0.0             70.0     12.235895   \n",
       "\n",
       "      Physical-Height  Physical-Weight  Physical-Diastolic_BP  \\\n",
       "0                46.0             50.8                   66.6   \n",
       "1                48.0             46.0                   75.0   \n",
       "2                56.5             75.6                   65.0   \n",
       "3                56.0             81.6                   60.0   \n",
       "4                59.5            112.2                   60.0   \n",
       "...               ...              ...                    ...   \n",
       "2731             52.5             67.2                   60.0   \n",
       "2732             48.5             46.6                   65.0   \n",
       "2733             59.5             82.4                   71.0   \n",
       "2734             60.0            109.8                   79.0   \n",
       "2735             70.7             87.0                   59.0   \n",
       "\n",
       "      Physical-HeartRate  Physical-Systolic_BP  FGC-FGC_CU  ...     BMI_Age  \\\n",
       "0                   81.0                 114.0         0.0  ...   84.386578   \n",
       "1                   70.0                 122.0         3.0  ...  126.320313   \n",
       "2                   94.0                 117.0        20.0  ...  166.486961   \n",
       "3                   97.0                 117.0        18.0  ...  164.631122   \n",
       "4                   73.0                 102.0        12.0  ...  289.639376   \n",
       "...                  ...                   ...         ...  ...         ...   \n",
       "2731                65.0                 112.0         0.0  ...  137.118476   \n",
       "2732                75.0                 105.0         0.0  ...   97.489042   \n",
       "2733                70.0                 104.0        16.0  ...  212.711984   \n",
       "2734                99.0                 116.0        15.0  ...  235.856500   \n",
       "2735                61.0                 113.0         8.8  ...  159.066638   \n",
       "\n",
       "      Internet_Hours_Age  BMI_Internet_Hours  PCIAT-PCIAT_Total  \\\n",
       "0                   15.0           50.631947               55.0   \n",
       "1                    0.0            0.000000                0.0   \n",
       "2                   20.0           33.297392               28.0   \n",
       "3                    0.0            0.000000               44.0   \n",
       "4                    0.0            0.000000               34.0   \n",
       "...                  ...                 ...                ...   \n",
       "2731                16.0           34.279619               22.0   \n",
       "2732                 0.0            0.000000               33.0   \n",
       "2733                13.0           16.362460               32.0   \n",
       "2734                 0.0            0.000000               31.0   \n",
       "2735                13.0           12.235895               19.0   \n",
       "\n",
       "      Basic_Demos-Enroll_Season  CGAS-Season  Physical-Season  FGC-Season  \\\n",
       "0                             3            4                3           3   \n",
       "1                             2            1                3           3   \n",
       "2                             2            3                3           3   \n",
       "3                             4            3                2           2   \n",
       "4                             1            1                1           1   \n",
       "...                         ...          ...              ...         ...   \n",
       "2731                          4            1                4           4   \n",
       "2732                          1            3                2           2   \n",
       "2733                          1            2                2           2   \n",
       "2734                          1            1                1           1   \n",
       "2735                          3            1                4           4   \n",
       "\n",
       "      SDS-Season  PreInt_EduHx-Season  \n",
       "0              1                    3  \n",
       "1              3                    2  \n",
       "2              3                    2  \n",
       "3              2                    4  \n",
       "4              1                    1  \n",
       "...          ...                  ...  \n",
       "2731           4                    4  \n",
       "2732           2                    1  \n",
       "2733           2                    1  \n",
       "2734           1                    1  \n",
       "2735           4                    3  \n",
       "\n",
       "[2736 rows x 25 columns]>"
      ]
     },
     "execution_count": 25,
     "metadata": {},
     "output_type": "execute_result"
    }
   ],
   "source": [
    "train.info"
   ]
  },
  {
   "cell_type": "code",
   "execution_count": 26,
   "id": "8eca2c6b",
   "metadata": {
    "execution": {
     "iopub.execute_input": "2024-12-18T19:29:21.422529Z",
     "iopub.status.busy": "2024-12-18T19:29:21.422088Z",
     "iopub.status.idle": "2024-12-18T19:29:21.430761Z",
     "shell.execute_reply": "2024-12-18T19:29:21.429656Z"
    },
    "papermill": {
     "duration": 0.042239,
     "end_time": "2024-12-18T19:29:21.432711",
     "exception": false,
     "start_time": "2024-12-18T19:29:21.390472",
     "status": "completed"
    },
    "tags": []
   },
   "outputs": [
    {
     "data": {
      "text/plain": [
       "Basic_Demos-Age                           0\n",
       "Basic_Demos-Sex                           0\n",
       "CGAS-CGAS_Score                           0\n",
       "Physical-BMI                              0\n",
       "Physical-Height                           0\n",
       "Physical-Weight                           0\n",
       "Physical-Diastolic_BP                     0\n",
       "Physical-HeartRate                        0\n",
       "Physical-Systolic_BP                      0\n",
       "FGC-FGC_CU                                0\n",
       "FGC-FGC_TL                                0\n",
       "SDS-SDS_Total_Raw                         0\n",
       "SDS-SDS_Total_T                           0\n",
       "PreInt_EduHx-computerinternet_hoursday    0\n",
       "sii                                       0\n",
       "BMI_Age                                   0\n",
       "Internet_Hours_Age                        0\n",
       "BMI_Internet_Hours                        0\n",
       "PCIAT-PCIAT_Total                         0\n",
       "Basic_Demos-Enroll_Season                 0\n",
       "CGAS-Season                               0\n",
       "Physical-Season                           0\n",
       "FGC-Season                                0\n",
       "SDS-Season                                0\n",
       "PreInt_EduHx-Season                       0\n",
       "dtype: int64"
      ]
     },
     "execution_count": 26,
     "metadata": {},
     "output_type": "execute_result"
    }
   ],
   "source": [
    "train.isna().sum()"
   ]
  },
  {
   "cell_type": "code",
   "execution_count": 27,
   "id": "86acefb5",
   "metadata": {
    "execution": {
     "iopub.execute_input": "2024-12-18T19:29:21.493588Z",
     "iopub.status.busy": "2024-12-18T19:29:21.493149Z",
     "iopub.status.idle": "2024-12-18T19:29:21.502348Z",
     "shell.execute_reply": "2024-12-18T19:29:21.501307Z"
    },
    "papermill": {
     "duration": 0.042626,
     "end_time": "2024-12-18T19:29:21.504681",
     "exception": false,
     "start_time": "2024-12-18T19:29:21.462055",
     "status": "completed"
    },
    "tags": []
   },
   "outputs": [
    {
     "data": {
      "text/plain": [
       "Basic_Demos-Age                           0\n",
       "Basic_Demos-Sex                           0\n",
       "CGAS-CGAS_Score                           0\n",
       "Physical-BMI                              0\n",
       "Physical-Height                           0\n",
       "Physical-Weight                           0\n",
       "Physical-Diastolic_BP                     0\n",
       "Physical-HeartRate                        0\n",
       "Physical-Systolic_BP                      0\n",
       "FGC-FGC_CU                                0\n",
       "FGC-FGC_TL                                0\n",
       "SDS-SDS_Total_Raw                         0\n",
       "SDS-SDS_Total_T                           0\n",
       "PreInt_EduHx-computerinternet_hoursday    0\n",
       "BMI_Age                                   0\n",
       "Internet_Hours_Age                        0\n",
       "BMI_Internet_Hours                        0\n",
       "Basic_Demos-Enroll_Season                 0\n",
       "CGAS-Season                               0\n",
       "Physical-Season                           0\n",
       "FGC-Season                                0\n",
       "SDS-Season                                0\n",
       "PreInt_EduHx-Season                       0\n",
       "dtype: int64"
      ]
     },
     "execution_count": 27,
     "metadata": {},
     "output_type": "execute_result"
    }
   ],
   "source": [
    "test.isna().sum()"
   ]
  },
  {
   "cell_type": "code",
   "execution_count": 28,
   "id": "2751178e",
   "metadata": {
    "execution": {
     "iopub.execute_input": "2024-12-18T19:29:21.565396Z",
     "iopub.status.busy": "2024-12-18T19:29:21.564937Z",
     "iopub.status.idle": "2024-12-18T19:29:21.572241Z",
     "shell.execute_reply": "2024-12-18T19:29:21.571045Z"
    },
    "papermill": {
     "duration": 0.040083,
     "end_time": "2024-12-18T19:29:21.574340",
     "exception": false,
     "start_time": "2024-12-18T19:29:21.534257",
     "status": "completed"
    },
    "tags": []
   },
   "outputs": [],
   "source": [
    "# Chuẩn bị dữ liệu huấn luyện\n",
    "com_columns = train.columns.intersection(test.columns).tolist()\n",
    "X = train[com_columns]\n",
    "y = train[\"PCIAT-PCIAT_Total\"]\n"
   ]
  },
  {
   "cell_type": "code",
   "execution_count": 29,
   "id": "8e270bac",
   "metadata": {
    "execution": {
     "iopub.execute_input": "2024-12-18T19:29:21.635246Z",
     "iopub.status.busy": "2024-12-18T19:29:21.634775Z",
     "iopub.status.idle": "2024-12-18T19:29:21.639248Z",
     "shell.execute_reply": "2024-12-18T19:29:21.638219Z"
    },
    "papermill": {
     "duration": 0.037326,
     "end_time": "2024-12-18T19:29:21.641350",
     "exception": false,
     "start_time": "2024-12-18T19:29:21.604024",
     "status": "completed"
    },
    "tags": []
   },
   "outputs": [],
   "source": [
    "# X.isna().sum()"
   ]
  },
  {
   "cell_type": "markdown",
   "id": "f7c7a5ad",
   "metadata": {
    "papermill": {
     "duration": 0.030779,
     "end_time": "2024-12-18T19:29:21.703087",
     "exception": false,
     "start_time": "2024-12-18T19:29:21.672308",
     "status": "completed"
    },
    "tags": []
   },
   "source": [
    "# Model"
   ]
  },
  {
   "cell_type": "code",
   "execution_count": 30,
   "id": "906bbf0b",
   "metadata": {
    "execution": {
     "iopub.execute_input": "2024-12-18T19:29:21.766824Z",
     "iopub.status.busy": "2024-12-18T19:29:21.766416Z",
     "iopub.status.idle": "2024-12-18T19:29:21.773762Z",
     "shell.execute_reply": "2024-12-18T19:29:21.772612Z"
    },
    "papermill": {
     "duration": 0.041621,
     "end_time": "2024-12-18T19:29:21.776002",
     "exception": false,
     "start_time": "2024-12-18T19:29:21.734381",
     "status": "completed"
    },
    "tags": []
   },
   "outputs": [],
   "source": [
    "# Model parameters for LightGBM\n",
    "\n",
    "Params = {\n",
    "    'learning_rate': 0.046,\n",
    "    'max_depth': 12,\n",
    "    'num_leaves': 478,\n",
    "    'min_data_in_leaf': 13,\n",
    "    'feature_fraction': 0.893,\n",
    "    'bagging_fraction': 0.784,\n",
    "    'bagging_freq': 4,\n",
    "    'lambda_l1': 10,  # Increased from 6.59\n",
    "    'lambda_l2': 0.01,  # Increased from 2.68e-06\n",
    "    'device': 'cpu'\n",
    "\n",
    "}\n",
    "\n",
    "# XGBoost parameters\n",
    "XGB_Params = {\n",
    "    'learning_rate': 0.05,\n",
    "    'max_depth': 6,\n",
    "    'n_estimators': 200,\n",
    "    'subsample': 0.8,\n",
    "    'colsample_bytree': 0.8,\n",
    "    'reg_alpha': 1,  # Increased from 0.1\n",
    "    'reg_lambda': 5,  # Increased from 1\n",
    "    'random_state': 42,\n",
    "    'tree_method': 'hist',\n",
    "\n",
    "}\n",
    "\n",
    "XGB_Params1 = {'max_depth': 3, 'n_estimators': 59, 'learning_rate': 0.07327652118259573, 'subsample': 0.5968194045365575, 'colsample_bytree': 0.9123669348125403}\n",
    "\n",
    "# CatBoost parameters\n",
    "CatBoost_Params = {\n",
    "    'learning_rate': 0.05,\n",
    "    'depth': 6,\n",
    "    'iterations': 200,\n",
    "    'random_seed': 42,\n",
    "    'verbose': 0,\n",
    "    'l2_leaf_reg': 10,  # Increase this value\n",
    "    'task_type': 'CPU'\n",
    "\n",
    "}"
   ]
  },
  {
   "cell_type": "code",
   "execution_count": 31,
   "id": "a4bbfb44",
   "metadata": {
    "execution": {
     "iopub.execute_input": "2024-12-18T19:29:21.837949Z",
     "iopub.status.busy": "2024-12-18T19:29:21.837562Z",
     "iopub.status.idle": "2024-12-18T19:29:21.845786Z",
     "shell.execute_reply": "2024-12-18T19:29:21.844651Z"
    },
    "papermill": {
     "duration": 0.04177,
     "end_time": "2024-12-18T19:29:21.848201",
     "exception": false,
     "start_time": "2024-12-18T19:29:21.806431",
     "status": "completed"
    },
    "tags": []
   },
   "outputs": [],
   "source": [
    "# Create model instances\n",
    "Light = LGBMRegressor(**Params, random_state = 42, verbose=-1, n_estimators=300)\n",
    "XGB_Model = XGBRegressor(**XGB_Params)\n",
    "CatBoost_Model = CatBoostRegressor(**CatBoost_Params)"
   ]
  },
  {
   "cell_type": "code",
   "execution_count": 32,
   "id": "456a4c3b",
   "metadata": {
    "execution": {
     "iopub.execute_input": "2024-12-18T19:29:21.910342Z",
     "iopub.status.busy": "2024-12-18T19:29:21.909348Z",
     "iopub.status.idle": "2024-12-18T19:29:21.915397Z",
     "shell.execute_reply": "2024-12-18T19:29:21.914348Z"
    },
    "papermill": {
     "duration": 0.039413,
     "end_time": "2024-12-18T19:29:21.917582",
     "exception": false,
     "start_time": "2024-12-18T19:29:21.878169",
     "status": "completed"
    },
    "tags": []
   },
   "outputs": [],
   "source": [
    "# Bảng quy đổi PCIAT-PCIAT_TOTAL sang sii\n",
    "def convert(scores):\n",
    "    scores = np.array(scores)*1.252\n",
    "    pred = np.zeros_like(scores)\n",
    "    pred[scores <= 30] = 0\n",
    "    pred[(scores > 30) & (scores < 50)] = 1\n",
    "    pred[(scores >= 50) & (scores < 80)] = 2\n",
    "    pred[scores >= 80] = 3\n",
    "    return pred"
   ]
  },
  {
   "cell_type": "code",
   "execution_count": 33,
   "id": "4f9fe532",
   "metadata": {
    "execution": {
     "iopub.execute_input": "2024-12-18T19:29:21.980020Z",
     "iopub.status.busy": "2024-12-18T19:29:21.978991Z",
     "iopub.status.idle": "2024-12-18T19:29:21.985754Z",
     "shell.execute_reply": "2024-12-18T19:29:21.984656Z"
    },
    "papermill": {
     "duration": 0.04038,
     "end_time": "2024-12-18T19:29:21.987900",
     "exception": false,
     "start_time": "2024-12-18T19:29:21.947520",
     "status": "completed"
    },
    "tags": []
   },
   "outputs": [],
   "source": [
    "import numpy as np\n",
    "from sklearn.model_selection import StratifiedKFold, cross_val_score\n",
    "from sklearn.metrics import make_scorer, cohen_kappa_score\n",
    "\n",
    "# Hàm kappa\n",
    "def quadratic_kappa(y_true, y_pred):\n",
    "    y_true_cat = convert(y_true)\n",
    "    y_pred_cat = convert(y_pred)\n",
    "    return cohen_kappa_score(y_true_cat, y_pred_cat, weights = 'quadratic')\n",
    "\n",
    "# Scorer cho cross_val_score\n",
    "kappa_scorer = make_scorer(quadratic_kappa, greater_is_better=True)\n",
    "\n",
    "# Khởi tạo StratifiedKFold\n",
    "skf = StratifiedKFold(n_splits=10)\n"
   ]
  },
  {
   "cell_type": "code",
   "execution_count": 34,
   "id": "535647e9",
   "metadata": {
    "execution": {
     "iopub.execute_input": "2024-12-18T19:29:22.049989Z",
     "iopub.status.busy": "2024-12-18T19:29:22.049595Z",
     "iopub.status.idle": "2024-12-18T19:29:23.093639Z",
     "shell.execute_reply": "2024-12-18T19:29:23.092667Z"
    },
    "papermill": {
     "duration": 1.078079,
     "end_time": "2024-12-18T19:29:23.096049",
     "exception": false,
     "start_time": "2024-12-18T19:29:22.017970",
     "status": "completed"
    },
    "tags": []
   },
   "outputs": [
    {
     "name": "stderr",
     "output_type": "stream",
     "text": [
      "/opt/conda/lib/python3.10/site-packages/sklearn/model_selection/_split.py:700: UserWarning: The least populated class in y has only 1 members, which is less than n_splits=10.\n",
      "  warnings.warn(\n"
     ]
    },
    {
     "name": "stdout",
     "output_type": "stream",
     "text": [
      "QWK Scores: [0.41351171 0.51196734 0.54050772 0.4736706  0.46743647 0.44746874\n",
      " 0.51157154 0.43322154 0.47116904 0.44890436]\n",
      "Mean QWK Score: 0.4719429056802788\n"
     ]
    }
   ],
   "source": [
    "model = xgb.XGBRegressor(**XGB_Params1)\n",
    "# Đánh giá mô hình\n",
    "scores = cross_val_score(model, X, y, cv=skf, scoring=kappa_scorer)\n",
    "print(\"QWK Scores:\", scores)\n",
    "print(\"Mean QWK Score:\", np.mean(scores))"
   ]
  },
  {
   "cell_type": "code",
   "execution_count": 35,
   "id": "3927398d",
   "metadata": {
    "execution": {
     "iopub.execute_input": "2024-12-18T19:29:23.157722Z",
     "iopub.status.busy": "2024-12-18T19:29:23.156706Z",
     "iopub.status.idle": "2024-12-18T19:29:26.946332Z",
     "shell.execute_reply": "2024-12-18T19:29:26.945255Z"
    },
    "papermill": {
     "duration": 3.823024,
     "end_time": "2024-12-18T19:29:26.948696",
     "exception": false,
     "start_time": "2024-12-18T19:29:23.125672",
     "status": "completed"
    },
    "tags": []
   },
   "outputs": [
    {
     "data": {
      "text/html": [
       "<style>#sk-container-id-1 {color: black;background-color: white;}#sk-container-id-1 pre{padding: 0;}#sk-container-id-1 div.sk-toggleable {background-color: white;}#sk-container-id-1 label.sk-toggleable__label {cursor: pointer;display: block;width: 100%;margin-bottom: 0;padding: 0.3em;box-sizing: border-box;text-align: center;}#sk-container-id-1 label.sk-toggleable__label-arrow:before {content: \"▸\";float: left;margin-right: 0.25em;color: #696969;}#sk-container-id-1 label.sk-toggleable__label-arrow:hover:before {color: black;}#sk-container-id-1 div.sk-estimator:hover label.sk-toggleable__label-arrow:before {color: black;}#sk-container-id-1 div.sk-toggleable__content {max-height: 0;max-width: 0;overflow: hidden;text-align: left;background-color: #f0f8ff;}#sk-container-id-1 div.sk-toggleable__content pre {margin: 0.2em;color: black;border-radius: 0.25em;background-color: #f0f8ff;}#sk-container-id-1 input.sk-toggleable__control:checked~div.sk-toggleable__content {max-height: 200px;max-width: 100%;overflow: auto;}#sk-container-id-1 input.sk-toggleable__control:checked~label.sk-toggleable__label-arrow:before {content: \"▾\";}#sk-container-id-1 div.sk-estimator input.sk-toggleable__control:checked~label.sk-toggleable__label {background-color: #d4ebff;}#sk-container-id-1 div.sk-label input.sk-toggleable__control:checked~label.sk-toggleable__label {background-color: #d4ebff;}#sk-container-id-1 input.sk-hidden--visually {border: 0;clip: rect(1px 1px 1px 1px);clip: rect(1px, 1px, 1px, 1px);height: 1px;margin: -1px;overflow: hidden;padding: 0;position: absolute;width: 1px;}#sk-container-id-1 div.sk-estimator {font-family: monospace;background-color: #f0f8ff;border: 1px dotted black;border-radius: 0.25em;box-sizing: border-box;margin-bottom: 0.5em;}#sk-container-id-1 div.sk-estimator:hover {background-color: #d4ebff;}#sk-container-id-1 div.sk-parallel-item::after {content: \"\";width: 100%;border-bottom: 1px solid gray;flex-grow: 1;}#sk-container-id-1 div.sk-label:hover label.sk-toggleable__label {background-color: #d4ebff;}#sk-container-id-1 div.sk-serial::before {content: \"\";position: absolute;border-left: 1px solid gray;box-sizing: border-box;top: 0;bottom: 0;left: 50%;z-index: 0;}#sk-container-id-1 div.sk-serial {display: flex;flex-direction: column;align-items: center;background-color: white;padding-right: 0.2em;padding-left: 0.2em;position: relative;}#sk-container-id-1 div.sk-item {position: relative;z-index: 1;}#sk-container-id-1 div.sk-parallel {display: flex;align-items: stretch;justify-content: center;background-color: white;position: relative;}#sk-container-id-1 div.sk-item::before, #sk-container-id-1 div.sk-parallel-item::before {content: \"\";position: absolute;border-left: 1px solid gray;box-sizing: border-box;top: 0;bottom: 0;left: 50%;z-index: -1;}#sk-container-id-1 div.sk-parallel-item {display: flex;flex-direction: column;z-index: 1;position: relative;background-color: white;}#sk-container-id-1 div.sk-parallel-item:first-child::after {align-self: flex-end;width: 50%;}#sk-container-id-1 div.sk-parallel-item:last-child::after {align-self: flex-start;width: 50%;}#sk-container-id-1 div.sk-parallel-item:only-child::after {width: 0;}#sk-container-id-1 div.sk-dashed-wrapped {border: 1px dashed gray;margin: 0 0.4em 0.5em 0.4em;box-sizing: border-box;padding-bottom: 0.4em;background-color: white;}#sk-container-id-1 div.sk-label label {font-family: monospace;font-weight: bold;display: inline-block;line-height: 1.2em;}#sk-container-id-1 div.sk-label-container {text-align: center;}#sk-container-id-1 div.sk-container {/* jupyter's `normalize.less` sets `[hidden] { display: none; }` but bootstrap.min.css set `[hidden] { display: none !important; }` so we also need the `!important` here to be able to override the default hidden behavior on the sphinx rendered scikit-learn.org. See: https://github.com/scikit-learn/scikit-learn/issues/21755 */display: inline-block !important;position: relative;}#sk-container-id-1 div.sk-text-repr-fallback {display: none;}</style><div id=\"sk-container-id-1\" class=\"sk-top-container\"><div class=\"sk-text-repr-fallback\"><pre>XGBRegressor(base_score=None, booster=None, callbacks=None,\n",
       "             colsample_bylevel=None, colsample_bynode=None,\n",
       "             colsample_bytree=0.8, device=None, early_stopping_rounds=None,\n",
       "             enable_categorical=False, eval_metric=None, feature_types=None,\n",
       "             gamma=None, grow_policy=None, importance_type=None,\n",
       "             interaction_constraints=None, learning_rate=0.05, max_bin=None,\n",
       "             max_cat_threshold=None, max_cat_to_onehot=None,\n",
       "             max_delta_step=None, max_depth=6, max_leaves=None,\n",
       "             min_child_weight=None, missing=nan, monotone_constraints=None,\n",
       "             multi_strategy=None, n_estimators=200, n_jobs=None,\n",
       "             num_parallel_tree=None, random_state=42, ...)</pre><b>In a Jupyter environment, please rerun this cell to show the HTML representation or trust the notebook. <br />On GitHub, the HTML representation is unable to render, please try loading this page with nbviewer.org.</b></div><div class=\"sk-container\" hidden><div class=\"sk-item\"><div class=\"sk-estimator sk-toggleable\"><input class=\"sk-toggleable__control sk-hidden--visually\" id=\"sk-estimator-id-1\" type=\"checkbox\" checked><label for=\"sk-estimator-id-1\" class=\"sk-toggleable__label sk-toggleable__label-arrow\">XGBRegressor</label><div class=\"sk-toggleable__content\"><pre>XGBRegressor(base_score=None, booster=None, callbacks=None,\n",
       "             colsample_bylevel=None, colsample_bynode=None,\n",
       "             colsample_bytree=0.8, device=None, early_stopping_rounds=None,\n",
       "             enable_categorical=False, eval_metric=None, feature_types=None,\n",
       "             gamma=None, grow_policy=None, importance_type=None,\n",
       "             interaction_constraints=None, learning_rate=0.05, max_bin=None,\n",
       "             max_cat_threshold=None, max_cat_to_onehot=None,\n",
       "             max_delta_step=None, max_depth=6, max_leaves=None,\n",
       "             min_child_weight=None, missing=nan, monotone_constraints=None,\n",
       "             multi_strategy=None, n_estimators=200, n_jobs=None,\n",
       "             num_parallel_tree=None, random_state=42, ...)</pre></div></div></div></div></div>"
      ],
      "text/plain": [
       "XGBRegressor(base_score=None, booster=None, callbacks=None,\n",
       "             colsample_bylevel=None, colsample_bynode=None,\n",
       "             colsample_bytree=0.8, device=None, early_stopping_rounds=None,\n",
       "             enable_categorical=False, eval_metric=None, feature_types=None,\n",
       "             gamma=None, grow_policy=None, importance_type=None,\n",
       "             interaction_constraints=None, learning_rate=0.05, max_bin=None,\n",
       "             max_cat_threshold=None, max_cat_to_onehot=None,\n",
       "             max_delta_step=None, max_depth=6, max_leaves=None,\n",
       "             min_child_weight=None, missing=nan, monotone_constraints=None,\n",
       "             multi_strategy=None, n_estimators=200, n_jobs=None,\n",
       "             num_parallel_tree=None, random_state=42, ...)"
      ]
     },
     "execution_count": 35,
     "metadata": {},
     "output_type": "execute_result"
    }
   ],
   "source": [
    "# Huấn luyện mô hình với tham số tốt nhất\n",
    "Light.fit(X, y)\n",
    "CatBoost_Model.fit(X, y)\n",
    "XGB_Model.fit(X, y)"
   ]
  },
  {
   "cell_type": "code",
   "execution_count": 36,
   "id": "b69d9308",
   "metadata": {
    "execution": {
     "iopub.execute_input": "2024-12-18T19:29:27.011183Z",
     "iopub.status.busy": "2024-12-18T19:29:27.010763Z",
     "iopub.status.idle": "2024-12-18T19:29:27.029791Z",
     "shell.execute_reply": "2024-12-18T19:29:27.028592Z"
    },
    "papermill": {
     "duration": 0.05294,
     "end_time": "2024-12-18T19:29:27.032165",
     "exception": false,
     "start_time": "2024-12-18T19:29:26.979225",
     "status": "completed"
    },
    "tags": []
   },
   "outputs": [],
   "source": [
    "# Lấy dự đoán\n",
    "X_test_1 = test[com_columns]\n",
    "cat_pred = CatBoost_Model.predict(X_test_1)\n",
    "xgb_pred = XGB_Model.predict(X_test_1)\n",
    "light_pred = Light.predict(X_test_1)"
   ]
  },
  {
   "cell_type": "markdown",
   "id": "817702ed",
   "metadata": {
    "papermill": {
     "duration": 0.029311,
     "end_time": "2024-12-18T19:29:27.091715",
     "exception": false,
     "start_time": "2024-12-18T19:29:27.062404",
     "status": "completed"
    },
    "tags": []
   },
   "source": [
    "# Averaging Ensemble với trọng số"
   ]
  },
  {
   "cell_type": "code",
   "execution_count": 37,
   "id": "36dfd7c1",
   "metadata": {
    "execution": {
     "iopub.execute_input": "2024-12-18T19:29:27.153244Z",
     "iopub.status.busy": "2024-12-18T19:29:27.152816Z",
     "iopub.status.idle": "2024-12-18T19:29:27.159507Z",
     "shell.execute_reply": "2024-12-18T19:29:27.158409Z"
    },
    "papermill": {
     "duration": 0.040098,
     "end_time": "2024-12-18T19:29:27.161632",
     "exception": false,
     "start_time": "2024-12-18T19:29:27.121534",
     "status": "completed"
    },
    "tags": []
   },
   "outputs": [],
   "source": [
    "# Đặt trọng số cho từng mô hình (có thể tối ưu hóa trọng số)\n",
    "weights = [0.3, 0.4, 0.3]  # Trọng số cho CatBoost, XGBoost, LightGBM\n",
    "\n",
    "# Tính trung bình trọng số của xác suất\n",
    "ensemble_pred = (\n",
    "    weights[0] * light_pred +\n",
    "    weights[1] * cat_pred +\n",
    "    weights[2] * xgb_pred\n",
    ") / np.sum(weights)\n",
    "\n",
    "# Lấy dự đoán từ trung bình\n",
    "y_test_1 = convert(ensemble_pred)\n",
    "\n",
    "y_test_1 = np.round(y_test_1).astype(int)\n"
   ]
  },
  {
   "cell_type": "code",
   "execution_count": 38,
   "id": "a0d4e437",
   "metadata": {
    "execution": {
     "iopub.execute_input": "2024-12-18T19:29:27.224369Z",
     "iopub.status.busy": "2024-12-18T19:29:27.223257Z",
     "iopub.status.idle": "2024-12-18T19:29:27.231463Z",
     "shell.execute_reply": "2024-12-18T19:29:27.230404Z"
    },
    "papermill": {
     "duration": 0.042095,
     "end_time": "2024-12-18T19:29:27.233669",
     "exception": false,
     "start_time": "2024-12-18T19:29:27.191574",
     "status": "completed"
    },
    "tags": []
   },
   "outputs": [
    {
     "name": "stdout",
     "output_type": "stream",
     "text": [
      "Predicted values for test data: [1 0 1 1 2 1 1 1 2 1 1 1 1 1 1 1 0 1 1 1]\n"
     ]
    }
   ],
   "source": [
    "print(\"Predicted values for test data:\", y_test_1)"
   ]
  },
  {
   "cell_type": "markdown",
   "id": "5185abdf",
   "metadata": {
    "papermill": {
     "duration": 0.030812,
     "end_time": "2024-12-18T19:29:27.355845",
     "exception": false,
     "start_time": "2024-12-18T19:29:27.325033",
     "status": "completed"
    },
    "tags": []
   },
   "source": [
    "# Result"
   ]
  },
  {
   "cell_type": "code",
   "execution_count": 39,
   "id": "22f70c13",
   "metadata": {
    "execution": {
     "iopub.execute_input": "2024-12-18T19:29:27.420269Z",
     "iopub.status.busy": "2024-12-18T19:29:27.419262Z",
     "iopub.status.idle": "2024-12-18T19:29:27.431695Z",
     "shell.execute_reply": "2024-12-18T19:29:27.430588Z"
    },
    "papermill": {
     "duration": 0.047845,
     "end_time": "2024-12-18T19:29:27.434074",
     "exception": false,
     "start_time": "2024-12-18T19:29:27.386229",
     "status": "completed"
    },
    "tags": []
   },
   "outputs": [
    {
     "name": "stdout",
     "output_type": "stream",
     "text": [
      "          id  sii\n",
      "0   00008ff9    1\n",
      "1   000fd460    0\n",
      "2   00105258    1\n",
      "3   00115b9f    1\n",
      "4   0016bb22    2\n",
      "5   001f3379    1\n",
      "6   0038ba98    1\n",
      "7   0068a485    1\n",
      "8   0069fbed    2\n",
      "9   0083e397    1\n",
      "10  0087dd65    1\n",
      "11  00abe655    1\n",
      "12  00ae59c9    1\n",
      "13  00af6387    1\n",
      "14  00bd4359    1\n",
      "15  00c0cd71    1\n",
      "16  00d56d4b    0\n",
      "17  00d9913d    1\n",
      "18  00e6167c    1\n",
      "19  00ebc35d    1\n"
     ]
    }
   ],
   "source": [
    "submission = sub_sample.copy()\n",
    "submission['sii'] = y_test_1\n",
    "submission.to_csv('submission.csv', index = False)\n",
    "print(submission)"
   ]
  }
 ],
 "metadata": {
  "kaggle": {
   "accelerator": "none",
   "dataSources": [
    {
     "databundleVersionId": 9643020,
     "sourceId": 81933,
     "sourceType": "competition"
    }
   ],
   "dockerImageVersionId": 30804,
   "isGpuEnabled": false,
   "isInternetEnabled": false,
   "language": "python",
   "sourceType": "notebook"
  },
  "kernelspec": {
   "display_name": "Python 3",
   "language": "python",
   "name": "python3"
  },
  "language_info": {
   "codemirror_mode": {
    "name": "ipython",
    "version": 3
   },
   "file_extension": ".py",
   "mimetype": "text/x-python",
   "name": "python",
   "nbconvert_exporter": "python",
   "pygments_lexer": "ipython3",
   "version": "3.10.14"
  },
  "papermill": {
   "default_parameters": {},
   "duration": 129.888992,
   "end_time": "2024-12-18T19:29:30.344620",
   "environment_variables": {},
   "exception": null,
   "input_path": "__notebook__.ipynb",
   "output_path": "__notebook__.ipynb",
   "parameters": {},
   "start_time": "2024-12-18T19:27:20.455628",
   "version": "2.6.0"
  }
 },
 "nbformat": 4,
 "nbformat_minor": 5
}
